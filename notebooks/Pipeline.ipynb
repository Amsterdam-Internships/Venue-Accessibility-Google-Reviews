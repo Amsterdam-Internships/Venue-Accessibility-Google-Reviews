{
 "cells": [
  {
   "attachments": {},
   "cell_type": "markdown",
   "metadata": {},
   "source": [
    "## Loading files and Environment"
   ]
  },
  {
   "cell_type": "code",
   "execution_count": 1,
   "metadata": {},
   "outputs": [],
   "source": [
    "#%conda env export > environment.yaml"
   ]
  },
  {
   "cell_type": "code",
   "execution_count": 2,
   "metadata": {},
   "outputs": [],
   "source": [
    "import os\n",
    "import glob\n",
    "import pandas as pd\n",
    "import numpy as np\n",
    "import sys\n",
    "import pathlib\n",
    "import sklearn\n",
    "import numpy\n",
    "import nltk\n",
    "import wordcloud\n",
    "import gensim\n",
    "from wordcloud import WordCloud\n",
    "from sklearn.metrics import classification_report\n",
    "from sklearn.datasets import load_iris\n",
    "from PIL import Image, ImageDraw, ImageFont\n",
    "from nltk.corpus import stopwords\n",
    "from collections import Counter\n",
    "from sklearn.datasets import load_files\n",
    "from sklearn.feature_extraction.text import CountVectorizer, TfidfVectorizer\n",
    "from sklearn.decomposition import TruncatedSVD\n",
    "from sklearn.linear_model import LogisticRegression\n",
    "from sklearn.model_selection import train_test_split\n",
    "from sklearn.naive_bayes import MultinomialNB\n",
    "from sklearn.feature_extraction.text import TfidfTransformer\n",
    "from sklearn.metrics import accuracy_score, precision_score, recall_score, f1_score\n",
    "from sklearn.metrics import precision_recall_fscore_support"
   ]
  },
  {
   "cell_type": "code",
   "execution_count": 3,
   "metadata": {},
   "outputs": [],
   "source": [
    "# Get current directory\n",
    "current_dir = os.getcwd()\n",
    "# Get parent directory\n",
    "parent_dir = os.path.join(current_dir, '..')\n",
    "# Append parent directory to sys.path\n",
    "sys.path.append(parent_dir)\n",
    "from src import data_cleaning as dc"
   ]
  },
  {
   "cell_type": "code",
   "execution_count": 4,
   "metadata": {},
   "outputs": [
    {
     "name": "stdout",
     "output_type": "stream",
     "text": [
      "path: /Users/mylene/BachelorsProject/Venue-Accessibility-Google-Reviews/datasets/EuansGuideData.xlsx\n",
      "path: /Users/mylene/BachelorsProject/Venue-Accessibility-Google-Reviews/datasets/GoogleReviews\n"
     ]
    }
   ],
   "source": [
    "cwd = pathlib.Path.cwd().parent\n",
    "training_file_path = cwd.joinpath(\"datasets/EuansGuideData.xlsx\")\n",
    "test_file_path = cwd.joinpath(\"datasets/GoogleReviews\")\n",
    "print('path:', training_file_path)\n",
    "print('path:', test_file_path)"
   ]
  },
  {
   "cell_type": "code",
   "execution_count": 5,
   "metadata": {},
   "outputs": [],
   "source": [
    "all_file_names = glob.glob(str(test_file_path) + \"/*.csv\")\n",
    "google_df = [pd.read_csv(file_name, index_col=None, header=0) for file_name in all_file_names]\n",
    "test_data = pd.concat(google_df, axis=0, ignore_index=True)"
   ]
  },
  {
   "attachments": {},
   "cell_type": "markdown",
   "metadata": {},
   "source": [
    "## Cleaning & Preprocessing"
   ]
  },
  {
   "cell_type": "code",
   "execution_count": 6,
   "metadata": {},
   "outputs": [
    {
     "name": "stderr",
     "output_type": "stream",
     "text": [
      "/Users/mylene/BachelorsProject/Venue-Accessibility-Google-Reviews/notebooks/../src/data_cleaning.py:37: SettingWithCopyWarning: \n",
      "A value is trying to be set on a copy of a slice from a DataFrame.\n",
      "Try using .loc[row_indexer,col_indexer] = value instead\n",
      "\n",
      "See the caveats in the documentation: https://pandas.pydata.org/pandas-docs/stable/user_guide/indexing.html#returning-a-view-versus-a-copy\n",
      "  df[\"Text\"] = df[\"Text\"].apply(lambda x: x.replace(\"\\n\", ' '))\n",
      "/Users/mylene/BachelorsProject/Venue-Accessibility-Google-Reviews/notebooks/../src/data_cleaning.py:52: SettingWithCopyWarning: \n",
      "A value is trying to be set on a copy of a slice from a DataFrame.\n",
      "Try using .loc[row_indexer,col_indexer] = value instead\n",
      "\n",
      "See the caveats in the documentation: https://pandas.pydata.org/pandas-docs/stable/user_guide/indexing.html#returning-a-view-versus-a-copy\n",
      "  selected_aspects[\"Venue\"] = selected_aspects[\"Venue\"].apply(lambda x: get_venue_name(x))\n",
      "/Users/mylene/BachelorsProject/Venue-Accessibility-Google-Reviews/notebooks/../src/data_cleaning.py:95: SettingWithCopyWarning: \n",
      "A value is trying to be set on a copy of a slice from a DataFrame.\n",
      "Try using .loc[row_indexer,col_indexer] = value instead\n",
      "\n",
      "See the caveats in the documentation: https://pandas.pydata.org/pandas-docs/stable/user_guide/indexing.html#returning-a-view-versus-a-copy\n",
      "  df[\"Sentiment\"] = df[\"Rating\"].apply(lambda x : pick_sentiment(x))\n",
      "/Users/mylene/BachelorsProject/Venue-Accessibility-Google-Reviews/notebooks/../src/data_cleaning.py:96: SettingWithCopyWarning: \n",
      "A value is trying to be set on a copy of a slice from a DataFrame.\n",
      "Try using .loc[row_indexer,col_indexer] = value instead\n",
      "\n",
      "See the caveats in the documentation: https://pandas.pydata.org/pandas-docs/stable/user_guide/indexing.html#returning-a-view-versus-a-copy\n",
      "  df['Label'] = df[\"Sentiment\"].map({'positive': 1, 'negative': 0})\n"
     ]
    }
   ],
   "source": [
    "training_data = pd.read_excel(training_file_path)\n",
    "clean_train_df = dc.clean_and_select(training_data, [\"Aspect\", \"Rating\", \"Review\", \"Venue\"])\n",
    "clean_test_df = dc.clean_and_select(test_data, [\"Name\",\"Review Rate\", \"Review Text\"])"
   ]
  },
  {
   "cell_type": "code",
   "execution_count": 7,
   "metadata": {},
   "outputs": [
    {
     "data": {
      "text/html": [
       "<div>\n",
       "<style scoped>\n",
       "    .dataframe tbody tr th:only-of-type {\n",
       "        vertical-align: middle;\n",
       "    }\n",
       "\n",
       "    .dataframe tbody tr th {\n",
       "        vertical-align: top;\n",
       "    }\n",
       "\n",
       "    .dataframe thead th {\n",
       "        text-align: right;\n",
       "    }\n",
       "</style>\n",
       "<table border=\"1\" class=\"dataframe\">\n",
       "  <thead>\n",
       "    <tr style=\"text-align: right;\">\n",
       "      <th></th>\n",
       "      <th>Aspect</th>\n",
       "      <th>Rating</th>\n",
       "      <th>Text</th>\n",
       "      <th>Venue</th>\n",
       "      <th>SentenceCount</th>\n",
       "      <th>Sentiment</th>\n",
       "      <th>Label</th>\n",
       "    </tr>\n",
       "  </thead>\n",
       "  <tbody>\n",
       "    <tr>\n",
       "      <th>1</th>\n",
       "      <td>Transport &amp; Parking</td>\n",
       "      <td>5.0</td>\n",
       "      <td>There is disabled parking close to the doors, ...</td>\n",
       "      <td>dobbies garden centre perth</td>\n",
       "      <td>2</td>\n",
       "      <td>positive</td>\n",
       "      <td>1.0</td>\n",
       "    </tr>\n",
       "    <tr>\n",
       "      <th>7</th>\n",
       "      <td>Transport &amp; Parking</td>\n",
       "      <td>4.5</td>\n",
       "      <td>A ten minute walk from the luas, not much near...</td>\n",
       "      <td>bow lane dublin</td>\n",
       "      <td>1</td>\n",
       "      <td>positive</td>\n",
       "      <td>1.0</td>\n",
       "    </tr>\n",
       "    <tr>\n",
       "      <th>14</th>\n",
       "      <td>Toilets</td>\n",
       "      <td>4.5</td>\n",
       "      <td>I did not use the toilets, but if you ring the...</td>\n",
       "      <td>jorvik viking centre york</td>\n",
       "      <td>1</td>\n",
       "      <td>positive</td>\n",
       "      <td>1.0</td>\n",
       "    </tr>\n",
       "    <tr>\n",
       "      <th>17</th>\n",
       "      <td>Transport &amp; Parking</td>\n",
       "      <td>4.5</td>\n",
       "      <td>It's situated on the high street, which has a ...</td>\n",
       "      <td>potter about burntisland</td>\n",
       "      <td>3</td>\n",
       "      <td>positive</td>\n",
       "      <td>1.0</td>\n",
       "    </tr>\n",
       "    <tr>\n",
       "      <th>19</th>\n",
       "      <td>Toilets</td>\n",
       "      <td>4.5</td>\n",
       "      <td>Clean and spacious with a grab rail on one sid...</td>\n",
       "      <td>potter about burntisland</td>\n",
       "      <td>3</td>\n",
       "      <td>positive</td>\n",
       "      <td>1.0</td>\n",
       "    </tr>\n",
       "    <tr>\n",
       "      <th>22</th>\n",
       "      <td>Transport &amp; Parking</td>\n",
       "      <td>5.0</td>\n",
       "      <td>4 spaces next to the front door</td>\n",
       "      <td>dumfries ice bowl dumfries</td>\n",
       "      <td>1</td>\n",
       "      <td>positive</td>\n",
       "      <td>1.0</td>\n",
       "    </tr>\n",
       "    <tr>\n",
       "      <th>34</th>\n",
       "      <td>Transport &amp; Parking</td>\n",
       "      <td>5.0</td>\n",
       "      <td>There is a large car park with a good number o...</td>\n",
       "      <td>the peak at stirling sports village stirling</td>\n",
       "      <td>4</td>\n",
       "      <td>positive</td>\n",
       "      <td>1.0</td>\n",
       "    </tr>\n",
       "    <tr>\n",
       "      <th>36</th>\n",
       "      <td>Toilets</td>\n",
       "      <td>4.5</td>\n",
       "      <td>There are quite a few accessible toilets  thro...</td>\n",
       "      <td>the peak at stirling sports village stirling</td>\n",
       "      <td>6</td>\n",
       "      <td>positive</td>\n",
       "      <td>1.0</td>\n",
       "    </tr>\n",
       "    <tr>\n",
       "      <th>41</th>\n",
       "      <td>Toilets</td>\n",
       "      <td>4.0</td>\n",
       "      <td>Accessible toilets on third, fourth and fifth ...</td>\n",
       "      <td>john lewis london</td>\n",
       "      <td>5</td>\n",
       "      <td>positive</td>\n",
       "      <td>1.0</td>\n",
       "    </tr>\n",
       "    <tr>\n",
       "      <th>44</th>\n",
       "      <td>Transport &amp; Parking</td>\n",
       "      <td>4.0</td>\n",
       "      <td>There is blue badge parking right next to the ...</td>\n",
       "      <td>nuffield health edinburgh fitness wellbeing gy...</td>\n",
       "      <td>3</td>\n",
       "      <td>positive</td>\n",
       "      <td>1.0</td>\n",
       "    </tr>\n",
       "  </tbody>\n",
       "</table>\n",
       "</div>"
      ],
      "text/plain": [
       "                 Aspect  Rating  \\\n",
       "1   Transport & Parking     5.0   \n",
       "7   Transport & Parking     4.5   \n",
       "14              Toilets     4.5   \n",
       "17  Transport & Parking     4.5   \n",
       "19              Toilets     4.5   \n",
       "22  Transport & Parking     5.0   \n",
       "34  Transport & Parking     5.0   \n",
       "36              Toilets     4.5   \n",
       "41              Toilets     4.0   \n",
       "44  Transport & Parking     4.0   \n",
       "\n",
       "                                                 Text  \\\n",
       "1   There is disabled parking close to the doors, ...   \n",
       "7   A ten minute walk from the luas, not much near...   \n",
       "14  I did not use the toilets, but if you ring the...   \n",
       "17  It's situated on the high street, which has a ...   \n",
       "19  Clean and spacious with a grab rail on one sid...   \n",
       "22                    4 spaces next to the front door   \n",
       "34  There is a large car park with a good number o...   \n",
       "36  There are quite a few accessible toilets  thro...   \n",
       "41  Accessible toilets on third, fourth and fifth ...   \n",
       "44  There is blue badge parking right next to the ...   \n",
       "\n",
       "                                                Venue  SentenceCount  \\\n",
       "1                         dobbies garden centre perth              2   \n",
       "7                                     bow lane dublin              1   \n",
       "14                          jorvik viking centre york              1   \n",
       "17                           potter about burntisland              3   \n",
       "19                           potter about burntisland              3   \n",
       "22                         dumfries ice bowl dumfries              1   \n",
       "34       the peak at stirling sports village stirling              4   \n",
       "36       the peak at stirling sports village stirling              6   \n",
       "41                                  john lewis london              5   \n",
       "44  nuffield health edinburgh fitness wellbeing gy...              3   \n",
       "\n",
       "   Sentiment  Label  \n",
       "1   positive    1.0  \n",
       "7   positive    1.0  \n",
       "14  positive    1.0  \n",
       "17  positive    1.0  \n",
       "19  positive    1.0  \n",
       "22  positive    1.0  \n",
       "34  positive    1.0  \n",
       "36  positive    1.0  \n",
       "41  positive    1.0  \n",
       "44  positive    1.0  "
      ]
     },
     "metadata": {},
     "output_type": "display_data"
    },
    {
     "data": {
      "text/html": [
       "<div>\n",
       "<style scoped>\n",
       "    .dataframe tbody tr th:only-of-type {\n",
       "        vertical-align: middle;\n",
       "    }\n",
       "\n",
       "    .dataframe tbody tr th {\n",
       "        vertical-align: top;\n",
       "    }\n",
       "\n",
       "    .dataframe thead th {\n",
       "        text-align: right;\n",
       "    }\n",
       "</style>\n",
       "<table border=\"1\" class=\"dataframe\">\n",
       "  <thead>\n",
       "    <tr style=\"text-align: right;\">\n",
       "      <th></th>\n",
       "      <th>Name</th>\n",
       "      <th>Sentiment</th>\n",
       "      <th>Text</th>\n",
       "      <th>Label</th>\n",
       "    </tr>\n",
       "  </thead>\n",
       "  <tbody>\n",
       "    <tr>\n",
       "      <th>0</th>\n",
       "      <td>Ellis</td>\n",
       "      <td>positive</td>\n",
       "      <td>It was a bit quite when we went in, but don’t ...</td>\n",
       "      <td>1</td>\n",
       "    </tr>\n",
       "    <tr>\n",
       "      <th>1</th>\n",
       "      <td>Ellis</td>\n",
       "      <td>positive</td>\n",
       "      <td>Nice cozy place which serves very tasty burger...</td>\n",
       "      <td>1</td>\n",
       "    </tr>\n",
       "    <tr>\n",
       "      <th>2</th>\n",
       "      <td>Ellis</td>\n",
       "      <td>positive</td>\n",
       "      <td>Really nice place. One of my favourite burger ...</td>\n",
       "      <td>1</td>\n",
       "    </tr>\n",
       "    <tr>\n",
       "      <th>3</th>\n",
       "      <td>Ellis</td>\n",
       "      <td>negative</td>\n",
       "      <td>The Service was quite good but the burgers we ...</td>\n",
       "      <td>0</td>\n",
       "    </tr>\n",
       "    <tr>\n",
       "      <th>4</th>\n",
       "      <td>Ellis</td>\n",
       "      <td>positive</td>\n",
       "      <td>I had a very nice experience! The staff were r...</td>\n",
       "      <td>1</td>\n",
       "    </tr>\n",
       "    <tr>\n",
       "      <th>5</th>\n",
       "      <td>Ellis</td>\n",
       "      <td>positive</td>\n",
       "      <td>Ellis Gourmet Burger - Today (15.03.2018)  I w...</td>\n",
       "      <td>1</td>\n",
       "    </tr>\n",
       "    <tr>\n",
       "      <th>6</th>\n",
       "      <td>Ellis</td>\n",
       "      <td>negative</td>\n",
       "      <td>The taste was okay. Unfortunately, when we got...</td>\n",
       "      <td>0</td>\n",
       "    </tr>\n",
       "    <tr>\n",
       "      <th>7</th>\n",
       "      <td>Ellis</td>\n",
       "      <td>positive</td>\n",
       "      <td>The only disappointing thing about this place ...</td>\n",
       "      <td>1</td>\n",
       "    </tr>\n",
       "    <tr>\n",
       "      <th>8</th>\n",
       "      <td>Ellis</td>\n",
       "      <td>positive</td>\n",
       "      <td>Yesterday in the afternoon we had some burgers...</td>\n",
       "      <td>1</td>\n",
       "    </tr>\n",
       "    <tr>\n",
       "      <th>9</th>\n",
       "      <td>Ellis</td>\n",
       "      <td>positive</td>\n",
       "      <td>Really cosy. Has an actual fireplace. Great fo...</td>\n",
       "      <td>1</td>\n",
       "    </tr>\n",
       "  </tbody>\n",
       "</table>\n",
       "</div>"
      ],
      "text/plain": [
       "    Name Sentiment                                               Text  Label\n",
       "0  Ellis  positive  It was a bit quite when we went in, but don’t ...      1\n",
       "1  Ellis  positive  Nice cozy place which serves very tasty burger...      1\n",
       "2  Ellis  positive  Really nice place. One of my favourite burger ...      1\n",
       "3  Ellis  negative  The Service was quite good but the burgers we ...      0\n",
       "4  Ellis  positive  I had a very nice experience! The staff were r...      1\n",
       "5  Ellis  positive  Ellis Gourmet Burger - Today (15.03.2018)  I w...      1\n",
       "6  Ellis  negative  The taste was okay. Unfortunately, when we got...      0\n",
       "7  Ellis  positive  The only disappointing thing about this place ...      1\n",
       "8  Ellis  positive  Yesterday in the afternoon we had some burgers...      1\n",
       "9  Ellis  positive  Really cosy. Has an actual fireplace. Great fo...      1"
      ]
     },
     "metadata": {},
     "output_type": "display_data"
    }
   ],
   "source": [
    "display(clean_train_df[:10])\n",
    "display(clean_test_df[:10])"
   ]
  },
  {
   "attachments": {},
   "cell_type": "markdown",
   "metadata": {},
   "source": [
    "## Exploratory Data Analysis"
   ]
  },
  {
   "cell_type": "code",
   "execution_count": 8,
   "metadata": {},
   "outputs": [
    {
     "data": {
      "image/png": "[encoded data removed]",
      "text/plain": [
       "<PIL.Image.Image image mode=RGB size=400x200>"
      ]
     },
     "execution_count": 8,
     "metadata": {},
     "output_type": "execute_result"
    }
   ],
   "source": [
    "wordcloud = WordCloud(background_color='white', max_words=1000, contour_width=3, contour_color='steeleblue')\n",
    "\n",
    "clustered_reviews_train = ','.join(list(clean_train_df['Text'].values))\n",
    "clustered_reviews_test = ','.join(list(clean_test_df['Text'].values))\n",
    "wordcloud.generate(clustered_reviews_train)\n",
    "wordcloud.generate(clustered_reviews_test)\n",
    "wordcloud.to_image()\n",
    "wordcloud.to_image()"
   ]
  },
  {
   "cell_type": "code",
   "execution_count": 9,
   "metadata": {},
   "outputs": [
    {
     "data": {
      "text/plain": [
       "<AxesSubplot: title={'center': \"Overview of Aspects in Euan's Guide data\"}, xlabel='Aspect Types', ylabel='Amount of aspects'>"
      ]
     },
     "execution_count": 9,
     "metadata": {},
     "output_type": "execute_result"
    },
    {
     "data": {
      "image/png": "[encoded data removed]",
      "text/plain": [
       "<Figure size 600x500 with 1 Axes>"
      ]
     },
     "metadata": {},
     "output_type": "display_data"
    }
   ],
   "source": [
    "amount_per_aspect = clean_train_df.groupby(['Aspect']).count()\n",
    "amount_per_aspect = amount_per_aspect['Text']\n",
    "amount_per_aspect.plot(kind='bar', title=\"Overview of Aspects in Euan's Guide data\", ylabel='Amount of aspects', xlabel='Aspect Types', figsize=(6,5))"
   ]
  },
  {
   "cell_type": "code",
   "execution_count": 10,
   "metadata": {},
   "outputs": [
    {
     "data": {
      "text/plain": [
       "<AxesSubplot: title={'center': \"Overview of Sentiments in Euan's Guide data\"}, xlabel='Sentiment Types', ylabel='Amount of Each Sentiment'>"
      ]
     },
     "execution_count": 10,
     "metadata": {},
     "output_type": "execute_result"
    },
    {
     "data": {
      "image/png": "[encoded data removed]",
      "text/plain": [
       "<Figure size 600x500 with 1 Axes>"
      ]
     },
     "metadata": {},
     "output_type": "display_data"
    }
   ],
   "source": [
    "amount_per_sentiment = clean_train_df.groupby(['Sentiment']).count()\n",
    "amount_per_sentiment = amount_per_sentiment['Text']\n",
    "amount_per_sentiment.plot(kind='bar', title=\"Overview of Sentiments in Euan's Guide data\", ylabel='Amount of Each Sentiment', xlabel='Sentiment Types', figsize=(6,5))"
   ]
  },
  {
   "attachments": {},
   "cell_type": "markdown",
   "metadata": {},
   "source": [
    "## Aspect Classification"
   ]
  },
  {
   "attachments": {},
   "cell_type": "markdown",
   "metadata": {},
   "source": [
    "### Pipeline setup"
   ]
  },
  {
   "cell_type": "code",
   "execution_count": 11,
   "metadata": {},
   "outputs": [],
   "source": [
    "from sklearn.pipeline import Pipeline, make_pipeline\n",
    "from sklearn.svm import SVC\n",
    "from sklearn.model_selection import GridSearchCV\n",
    "from sklearn.naive_bayes import MultinomialNB\n",
    "from sklearn.linear_model import LogisticRegression\n",
    "from sklearn.ensemble import VotingClassifier\n",
    "\n"
   ]
  },
  {
   "cell_type": "code",
   "execution_count": 12,
   "metadata": {},
   "outputs": [],
   "source": [
    "vectorizer = CountVectorizer()\n",
    "n = round(len(clean_train_df))\n",
    "euans_reviews = clean_train_df.Text.values.tolist()\n",
    "google_reviews = clean_test_df[:n].Text.values.tolist()\n",
    "euans_labels = clean_train_df.Aspect.values.tolist()\n"
   ]
  },
  {
   "cell_type": "code",
   "execution_count": 13,
   "metadata": {},
   "outputs": [],
   "source": [
    "pipeline = Pipeline([\n",
    "    ('vectorizer', TfidfVectorizer()),\n",
    "    ('clf', VotingClassifier([\n",
    "        ('nb', MultinomialNB()),\n",
    "        ('lr', LogisticRegression())\n",
    "    ]))\n",
    "])"
   ]
  },
  {
   "cell_type": "code",
   "execution_count": 14,
   "metadata": {},
   "outputs": [],
   "source": [
    "parameters = {\n",
    "    'vectorizer__max_df': (0.5, 0.75, 1.0),\n",
    "    'vectorizer__ngram_range': ((1, 1), (1, 2)),\n",
    "    'clf__voting': ('soft', 'hard'),\n",
    "    'clf__nb__alpha': (0.5, 1),\n",
    "    'clf__lr__C': (0.1, 1, 10),\n",
    "}"
   ]
  },
  {
   "cell_type": "code",
   "execution_count": 15,
   "metadata": {},
   "outputs": [],
   "source": [
    "grid_search = GridSearchCV(estimator=pipeline, param_grid=parameters, cv=5, n_jobs=5, verbose=1)"
   ]
  },
  {
   "cell_type": "code",
   "execution_count": 16,
   "metadata": {},
   "outputs": [],
   "source": [
    "X_train, X_val, y_train, y_val = train_test_split(euans_reviews, euans_labels, test_size=0.2, random_state=42)"
   ]
  },
  {
   "cell_type": "code",
   "execution_count": 17,
   "metadata": {},
   "outputs": [],
   "source": [
    "import random\n",
    "\n",
    "google_sample = random.sample(google_reviews, len(y_val))"
   ]
  },
  {
   "cell_type": "code",
   "execution_count": 18,
   "metadata": {},
   "outputs": [
    {
     "name": "stdout",
     "output_type": "stream",
     "text": [
      "Fitting 5 folds for each of 72 candidates, totalling 360 fits\n"
     ]
    },
    {
     "data": {
      "text/html": [
       "<style>#sk-container-id-1 {color: black;background-color: white;}#sk-container-id-1 pre{padding: 0;}#sk-container-id-1 div.sk-toggleable {background-color: white;}#sk-container-id-1 label.sk-toggleable__label {cursor: pointer;display: block;width: 100%;margin-bottom: 0;padding: 0.3em;box-sizing: border-box;text-align: center;}#sk-container-id-1 label.sk-toggleable__label-arrow:before {content: \"▸\";float: left;margin-right: 0.25em;color: #696969;}#sk-container-id-1 label.sk-toggleable__label-arrow:hover:before {color: black;}#sk-container-id-1 div.sk-estimator:hover label.sk-toggleable__label-arrow:before {color: black;}#sk-container-id-1 div.sk-toggleable__content {max-height: 0;max-width: 0;overflow: hidden;text-align: left;background-color: #f0f8ff;}#sk-container-id-1 div.sk-toggleable__content pre {margin: 0.2em;color: black;border-radius: 0.25em;background-color: #f0f8ff;}#sk-container-id-1 input.sk-toggleable__control:checked~div.sk-toggleable__content {max-height: 200px;max-width: 100%;overflow: auto;}#sk-container-id-1 input.sk-toggleable__control:checked~label.sk-toggleable__label-arrow:before {content: \"▾\";}#sk-container-id-1 div.sk-estimator input.sk-toggleable__control:checked~label.sk-toggleable__label {background-color: #d4ebff;}#sk-container-id-1 div.sk-label input.sk-toggleable__control:checked~label.sk-toggleable__label {background-color: #d4ebff;}#sk-container-id-1 input.sk-hidden--visually {border: 0;clip: rect(1px 1px 1px 1px);clip: rect(1px, 1px, 1px, 1px);height: 1px;margin: -1px;overflow: hidden;padding: 0;position: absolute;width: 1px;}#sk-container-id-1 div.sk-estimator {font-family: monospace;background-color: #f0f8ff;border: 1px dotted black;border-radius: 0.25em;box-sizing: border-box;margin-bottom: 0.5em;}#sk-container-id-1 div.sk-estimator:hover {background-color: #d4ebff;}#sk-container-id-1 div.sk-parallel-item::after {content: \"\";width: 100%;border-bottom: 1px solid gray;flex-grow: 1;}#sk-container-id-1 div.sk-label:hover label.sk-toggleable__label {background-color: #d4ebff;}#sk-container-id-1 div.sk-serial::before {content: \"\";position: absolute;border-left: 1px solid gray;box-sizing: border-box;top: 0;bottom: 0;left: 50%;z-index: 0;}#sk-container-id-1 div.sk-serial {display: flex;flex-direction: column;align-items: center;background-color: white;padding-right: 0.2em;padding-left: 0.2em;position: relative;}#sk-container-id-1 div.sk-item {position: relative;z-index: 1;}#sk-container-id-1 div.sk-parallel {display: flex;align-items: stretch;justify-content: center;background-color: white;position: relative;}#sk-container-id-1 div.sk-item::before, #sk-container-id-1 div.sk-parallel-item::before {content: \"\";position: absolute;border-left: 1px solid gray;box-sizing: border-box;top: 0;bottom: 0;left: 50%;z-index: -1;}#sk-container-id-1 div.sk-parallel-item {display: flex;flex-direction: column;z-index: 1;position: relative;background-color: white;}#sk-container-id-1 div.sk-parallel-item:first-child::after {align-self: flex-end;width: 50%;}#sk-container-id-1 div.sk-parallel-item:last-child::after {align-self: flex-start;width: 50%;}#sk-container-id-1 div.sk-parallel-item:only-child::after {width: 0;}#sk-container-id-1 div.sk-dashed-wrapped {border: 1px dashed gray;margin: 0 0.4em 0.5em 0.4em;box-sizing: border-box;padding-bottom: 0.4em;background-color: white;}#sk-container-id-1 div.sk-label label {font-family: monospace;font-weight: bold;display: inline-block;line-height: 1.2em;}#sk-container-id-1 div.sk-label-container {text-align: center;}#sk-container-id-1 div.sk-container {/* jupyter's `normalize.less` sets `[hidden] { display: none; }` but bootstrap.min.css set `[hidden] { display: none !important; }` so we also need the `!important` here to be able to override the default hidden behavior on the sphinx rendered scikit-learn.org. See: https://github.com/scikit-learn/scikit-learn/issues/21755 */display: inline-block !important;position: relative;}#sk-container-id-1 div.sk-text-repr-fallback {display: none;}</style><div id=\"sk-container-id-1\" class=\"sk-top-container\"><div class=\"sk-text-repr-fallback\"><pre>GridSearchCV(cv=5,\n",
       "             estimator=Pipeline(steps=[(&#x27;vectorizer&#x27;, TfidfVectorizer()),\n",
       "                                       (&#x27;clf&#x27;,\n",
       "                                        VotingClassifier(estimators=[(&#x27;nb&#x27;,\n",
       "                                                                      MultinomialNB()),\n",
       "                                                                     (&#x27;lr&#x27;,\n",
       "                                                                      LogisticRegression())]))]),\n",
       "             n_jobs=5,\n",
       "             param_grid={&#x27;clf__lr__C&#x27;: (0.1, 1, 10), &#x27;clf__nb__alpha&#x27;: (0.5, 1),\n",
       "                         &#x27;clf__voting&#x27;: (&#x27;soft&#x27;, &#x27;hard&#x27;),\n",
       "                         &#x27;vectorizer__max_df&#x27;: (0.5, 0.75, 1.0),\n",
       "                         &#x27;vectorizer__ngram_range&#x27;: ((1, 1), (1, 2))},\n",
       "             verbose=1)</pre><b>In a Jupyter environment, please rerun this cell to show the HTML representation or trust the notebook. <br />On GitHub, the HTML representation is unable to render, please try loading this page with nbviewer.org.</b></div><div class=\"sk-container\" hidden><div class=\"sk-item sk-dashed-wrapped\"><div class=\"sk-label-container\"><div class=\"sk-label sk-toggleable\"><input class=\"sk-toggleable__control sk-hidden--visually\" id=\"sk-estimator-id-1\" type=\"checkbox\" ><label for=\"sk-estimator-id-1\" class=\"sk-toggleable__label sk-toggleable__label-arrow\">GridSearchCV</label><div class=\"sk-toggleable__content\"><pre>GridSearchCV(cv=5,\n",
       "             estimator=Pipeline(steps=[(&#x27;vectorizer&#x27;, TfidfVectorizer()),\n",
       "                                       (&#x27;clf&#x27;,\n",
       "                                        VotingClassifier(estimators=[(&#x27;nb&#x27;,\n",
       "                                                                      MultinomialNB()),\n",
       "                                                                     (&#x27;lr&#x27;,\n",
       "                                                                      LogisticRegression())]))]),\n",
       "             n_jobs=5,\n",
       "             param_grid={&#x27;clf__lr__C&#x27;: (0.1, 1, 10), &#x27;clf__nb__alpha&#x27;: (0.5, 1),\n",
       "                         &#x27;clf__voting&#x27;: (&#x27;soft&#x27;, &#x27;hard&#x27;),\n",
       "                         &#x27;vectorizer__max_df&#x27;: (0.5, 0.75, 1.0),\n",
       "                         &#x27;vectorizer__ngram_range&#x27;: ((1, 1), (1, 2))},\n",
       "             verbose=1)</pre></div></div></div><div class=\"sk-parallel\"><div class=\"sk-parallel-item\"><div class=\"sk-item\"><div class=\"sk-label-container\"><div class=\"sk-label sk-toggleable\"><input class=\"sk-toggleable__control sk-hidden--visually\" id=\"sk-estimator-id-2\" type=\"checkbox\" ><label for=\"sk-estimator-id-2\" class=\"sk-toggleable__label sk-toggleable__label-arrow\">estimator: Pipeline</label><div class=\"sk-toggleable__content\"><pre>Pipeline(steps=[(&#x27;vectorizer&#x27;, TfidfVectorizer()),\n",
       "                (&#x27;clf&#x27;,\n",
       "                 VotingClassifier(estimators=[(&#x27;nb&#x27;, MultinomialNB()),\n",
       "                                              (&#x27;lr&#x27;, LogisticRegression())]))])</pre></div></div></div><div class=\"sk-serial\"><div class=\"sk-item\"><div class=\"sk-serial\"><div class=\"sk-item\"><div class=\"sk-estimator sk-toggleable\"><input class=\"sk-toggleable__control sk-hidden--visually\" id=\"sk-estimator-id-3\" type=\"checkbox\" ><label for=\"sk-estimator-id-3\" class=\"sk-toggleable__label sk-toggleable__label-arrow\">TfidfVectorizer</label><div class=\"sk-toggleable__content\"><pre>TfidfVectorizer()</pre></div></div></div><div class=\"sk-item sk-dashed-wrapped\"><div class=\"sk-label-container\"><div class=\"sk-label sk-toggleable\"><input class=\"sk-toggleable__control sk-hidden--visually\" id=\"sk-estimator-id-4\" type=\"checkbox\" ><label for=\"sk-estimator-id-4\" class=\"sk-toggleable__label sk-toggleable__label-arrow\">clf: VotingClassifier</label><div class=\"sk-toggleable__content\"><pre>VotingClassifier(estimators=[(&#x27;nb&#x27;, MultinomialNB()),\n",
       "                             (&#x27;lr&#x27;, LogisticRegression())])</pre></div></div></div><div class=\"sk-parallel\"><div class=\"sk-parallel-item\"><div class=\"sk-item\"><div class=\"sk-label-container\"><div class=\"sk-label sk-toggleable\"><label>nb</label></div></div><div class=\"sk-serial\"><div class=\"sk-item\"><div class=\"sk-estimator sk-toggleable\"><input class=\"sk-toggleable__control sk-hidden--visually\" id=\"sk-estimator-id-5\" type=\"checkbox\" ><label for=\"sk-estimator-id-5\" class=\"sk-toggleable__label sk-toggleable__label-arrow\">MultinomialNB</label><div class=\"sk-toggleable__content\"><pre>MultinomialNB()</pre></div></div></div></div></div></div><div class=\"sk-parallel-item\"><div class=\"sk-item\"><div class=\"sk-label-container\"><div class=\"sk-label sk-toggleable\"><label>lr</label></div></div><div class=\"sk-serial\"><div class=\"sk-item\"><div class=\"sk-estimator sk-toggleable\"><input class=\"sk-toggleable__control sk-hidden--visually\" id=\"sk-estimator-id-6\" type=\"checkbox\" ><label for=\"sk-estimator-id-6\" class=\"sk-toggleable__label sk-toggleable__label-arrow\">LogisticRegression</label><div class=\"sk-toggleable__content\"><pre>LogisticRegression()</pre></div></div></div></div></div></div></div></div></div></div></div></div></div></div></div></div></div>"
      ],
      "text/plain": [
       "GridSearchCV(cv=5,\n",
       "             estimator=Pipeline(steps=[('vectorizer', TfidfVectorizer()),\n",
       "                                       ('clf',\n",
       "                                        VotingClassifier(estimators=[('nb',\n",
       "                                                                      MultinomialNB()),\n",
       "                                                                     ('lr',\n",
       "                                                                      LogisticRegression())]))]),\n",
       "             n_jobs=5,\n",
       "             param_grid={'clf__lr__C': (0.1, 1, 10), 'clf__nb__alpha': (0.5, 1),\n",
       "                         'clf__voting': ('soft', 'hard'),\n",
       "                         'vectorizer__max_df': (0.5, 0.75, 1.0),\n",
       "                         'vectorizer__ngram_range': ((1, 1), (1, 2))},\n",
       "             verbose=1)"
      ]
     },
     "execution_count": 18,
     "metadata": {},
     "output_type": "execute_result"
    }
   ],
   "source": [
    "grid_search.fit(X_train, y_train)"
   ]
  },
  {
   "cell_type": "code",
   "execution_count": 19,
   "metadata": {},
   "outputs": [],
   "source": [
    "y_pred = grid_search.predict(X_val)"
   ]
  },
  {
   "cell_type": "code",
   "execution_count": 20,
   "metadata": {},
   "outputs": [],
   "source": [
    "google_pred = grid_search.predict(google_sample)"
   ]
  },
  {
   "cell_type": "code",
   "execution_count": 21,
   "metadata": {},
   "outputs": [],
   "source": [
    "pos_labels = ['Toilets', 'Transport & Parking']"
   ]
  },
  {
   "attachments": {},
   "cell_type": "markdown",
   "metadata": {},
   "source": [
    "### Evaluation Metrics"
   ]
  },
  {
   "cell_type": "code",
   "execution_count": 22,
   "metadata": {},
   "outputs": [
    {
     "name": "stdout",
     "output_type": "stream",
     "text": [
      "Euan's Guide Evaluation Report\n",
      "                      precision    recall  f1-score   support\n",
      "\n",
      "            Toilets       0.99      0.99      0.99      1218\n",
      "Transport & Parking       0.99      0.99      0.99      1508\n",
      "\n",
      "           accuracy                           0.99      2726\n",
      "          macro avg       0.99      0.99      0.99      2726\n",
      "       weighted avg       0.99      0.99      0.99      2726\n",
      "\n",
      "Google Reviews Evaluation Report\n",
      "                      precision    recall  f1-score   support\n",
      "\n",
      "            Toilets       0.45      0.59      0.51      1218\n",
      "Transport & Parking       0.56      0.43      0.49      1508\n",
      "\n",
      "           accuracy                           0.50      2726\n",
      "          macro avg       0.51      0.51      0.50      2726\n",
      "       weighted avg       0.51      0.50      0.50      2726\n",
      "\n"
     ]
    }
   ],
   "source": [
    "valuation_report = classification_report(y_val, y_pred, labels=pos_labels)\n",
    "evaluation_report = classification_report(y_val, google_pred, labels=pos_labels)\n",
    "print(\"Euan's Guide Evaluation Report\\n\",valuation_report)\n",
    "print(\"Google Reviews Evaluation Report\\n\",evaluation_report)\n",
    "# save report as a text file\n",
    "with open('../Results/google_aspect_classification_report.txt', 'w') as f:\n",
    "    f.write(evaluation_report)\n",
    "    \n",
    "with open('../Results/euans_aspect_classification_report.txt', 'w') as f:\n",
    "    f.write(valuation_report)\n",
    "\n",
    "# # convert text file to PNG image\n",
    "img = Image.new('RGB', (800, 800), color='white')\n",
    "font = ImageFont.truetype('../media/Fonts/Roboto/Roboto-Black.ttf', 20)\n",
    "draw = ImageDraw.Draw(img)\n",
    "\n",
    "with open('../Results/google_aspect_classification_report.txt', 'r') as f:\n",
    "    y = 0\n",
    "    for line in f.readlines():\n",
    "        draw.text((10, y), line, fill='black', font=font)\n",
    "        y += 20\n",
    "\n",
    "img.save('../Results/google_aspect_classification_report.png')\n",
    "\n",
    "with open('../Results/euans_aspect_classification_report.txt', 'r') as f:\n",
    "    y = 0\n",
    "    for line in f.readlines():\n",
    "        draw.text((10, y), line, fill='black', font=font)\n",
    "        y += 20\n",
    "\n",
    "img.save('../Results/euans_aspect_classification_report.png')\n"
   ]
  },
  {
   "cell_type": "code",
   "execution_count": 23,
   "metadata": {},
   "outputs": [
    {
     "data": {
      "text/plain": [
       "<sklearn.metrics._plot.confusion_matrix.ConfusionMatrixDisplay at 0x7f857242e130>"
      ]
     },
     "execution_count": 23,
     "metadata": {},
     "output_type": "execute_result"
    },
    {
     "data": {
      "image/png": "[encoded data removed]",
      "text/plain": [
       "<Figure size 640x480 with 2 Axes>"
      ]
     },
     "metadata": {},
     "output_type": "display_data"
    }
   ],
   "source": [
    "from sklearn.metrics import confusion_matrix, ConfusionMatrixDisplay\n",
    "\n",
    "cm = confusion_matrix(y_val, google_pred)\n",
    "\n",
    "display = ConfusionMatrixDisplay(confusion_matrix=cm, display_labels=pos_labels)\n",
    "\n",
    "display.plot()"
   ]
  },
  {
   "attachments": {},
   "cell_type": "markdown",
   "metadata": {},
   "source": [
    "## Sentiment Analysis"
   ]
  },
  {
   "cell_type": "code",
   "execution_count": 24,
   "metadata": {},
   "outputs": [],
   "source": [
    "sentiment_labels = clean_train_df.Sentiment.values.tolist()\n",
    "X2_train, X2_val, y2_train, y2_val = train_test_split(euans_reviews, sentiment_labels, test_size=0.2, random_state=42)\n",
    "\n",
    "pipeline2 = Pipeline([\n",
    "    ('vectorizer', TfidfVectorizer()),\n",
    "    ('clf', VotingClassifier([\n",
    "        ('nb', MultinomialNB()),\n",
    "        ('svm', SVC())\n",
    "    ]))\n",
    "])"
   ]
  },
  {
   "cell_type": "code",
   "execution_count": 25,
   "metadata": {},
   "outputs": [],
   "source": [
    "sentiment_params = {\n",
    "    'vectorizer__max_features': [1000, 5000],\n",
    "    'vectorizer__ngram_range': [(1, 1), (1, 2)],\n",
    "    'clf__voting': ['hard', 'soft'],\n",
    "    'clf__weights': [[0.5, 0.5], [0.7, 0.3]],\n",
    "    'clf__estimators': [\n",
    "        [('nb', MultinomialNB(alpha=0.5)), ('svm', SVC(kernel='linear', C=1.0))],\n",
    "        [('nb', MultinomialNB(alpha=1.0)), ('svm', SVC(kernel='rbf', C=10.0, gamma=0.1))]\n",
    "    ]\n",
    "}"
   ]
  },
  {
   "cell_type": "code",
   "execution_count": 26,
   "metadata": {},
   "outputs": [
    {
     "name": "stdout",
     "output_type": "stream",
     "text": [
      "Fitting 5 folds for each of 32 candidates, totalling 160 fits\n"
     ]
    },
    {
     "ename": "KeyboardInterrupt",
     "evalue": "",
     "output_type": "error",
     "traceback": [
      "\u001b[0;31m---------------------------------------------------------------------------\u001b[0m",
      "\u001b[0;31mKeyboardInterrupt\u001b[0m                         Traceback (most recent call last)",
      "Cell \u001b[0;32mIn[26], line 2\u001b[0m\n\u001b[1;32m      1\u001b[0m grid_search2 \u001b[39m=\u001b[39m GridSearchCV(estimator\u001b[39m=\u001b[39mpipeline2, param_grid\u001b[39m=\u001b[39msentiment_params, cv\u001b[39m=\u001b[39m\u001b[39m5\u001b[39m, n_jobs\u001b[39m=\u001b[39m\u001b[39m5\u001b[39m, verbose\u001b[39m=\u001b[39m\u001b[39m1\u001b[39m)\n\u001b[0;32m----> 2\u001b[0m grid_search2\u001b[39m.\u001b[39;49mfit(X2_train, y2_train)\n\u001b[1;32m      3\u001b[0m y2_pred \u001b[39m=\u001b[39m grid_search2\u001b[39m.\u001b[39mpredict(X2_val)\n\u001b[1;32m      4\u001b[0m google2_pred \u001b[39m=\u001b[39m grid_search2\u001b[39m.\u001b[39mpredict(google_sample)\n",
      "File \u001b[0;32m~/opt/anaconda3/envs/BachelorsProject/lib/python3.9/site-packages/sklearn/model_selection/_search.py:874\u001b[0m, in \u001b[0;36mBaseSearchCV.fit\u001b[0;34m(self, X, y, groups, **fit_params)\u001b[0m\n\u001b[1;32m    868\u001b[0m     results \u001b[39m=\u001b[39m \u001b[39mself\u001b[39m\u001b[39m.\u001b[39m_format_results(\n\u001b[1;32m    869\u001b[0m         all_candidate_params, n_splits, all_out, all_more_results\n\u001b[1;32m    870\u001b[0m     )\n\u001b[1;32m    872\u001b[0m     \u001b[39mreturn\u001b[39;00m results\n\u001b[0;32m--> 874\u001b[0m \u001b[39mself\u001b[39;49m\u001b[39m.\u001b[39;49m_run_search(evaluate_candidates)\n\u001b[1;32m    876\u001b[0m \u001b[39m# multimetric is determined here because in the case of a callable\u001b[39;00m\n\u001b[1;32m    877\u001b[0m \u001b[39m# self.scoring the return type is only known after calling\u001b[39;00m\n\u001b[1;32m    878\u001b[0m first_test_score \u001b[39m=\u001b[39m all_out[\u001b[39m0\u001b[39m][\u001b[39m\"\u001b[39m\u001b[39mtest_scores\u001b[39m\u001b[39m\"\u001b[39m]\n",
      "File \u001b[0;32m~/opt/anaconda3/envs/BachelorsProject/lib/python3.9/site-packages/sklearn/model_selection/_search.py:1388\u001b[0m, in \u001b[0;36mGridSearchCV._run_search\u001b[0;34m(self, evaluate_candidates)\u001b[0m\n\u001b[1;32m   1386\u001b[0m \u001b[39mdef\u001b[39;00m \u001b[39m_run_search\u001b[39m(\u001b[39mself\u001b[39m, evaluate_candidates):\n\u001b[1;32m   1387\u001b[0m \u001b[39m    \u001b[39m\u001b[39m\"\"\"Search all candidates in param_grid\"\"\"\u001b[39;00m\n\u001b[0;32m-> 1388\u001b[0m     evaluate_candidates(ParameterGrid(\u001b[39mself\u001b[39;49m\u001b[39m.\u001b[39;49mparam_grid))\n",
      "File \u001b[0;32m~/opt/anaconda3/envs/BachelorsProject/lib/python3.9/site-packages/sklearn/model_selection/_search.py:821\u001b[0m, in \u001b[0;36mBaseSearchCV.fit.<locals>.evaluate_candidates\u001b[0;34m(candidate_params, cv, more_results)\u001b[0m\n\u001b[1;32m    813\u001b[0m \u001b[39mif\u001b[39;00m \u001b[39mself\u001b[39m\u001b[39m.\u001b[39mverbose \u001b[39m>\u001b[39m \u001b[39m0\u001b[39m:\n\u001b[1;32m    814\u001b[0m     \u001b[39mprint\u001b[39m(\n\u001b[1;32m    815\u001b[0m         \u001b[39m\"\u001b[39m\u001b[39mFitting \u001b[39m\u001b[39m{0}\u001b[39;00m\u001b[39m folds for each of \u001b[39m\u001b[39m{1}\u001b[39;00m\u001b[39m candidates,\u001b[39m\u001b[39m\"\u001b[39m\n\u001b[1;32m    816\u001b[0m         \u001b[39m\"\u001b[39m\u001b[39m totalling \u001b[39m\u001b[39m{2}\u001b[39;00m\u001b[39m fits\u001b[39m\u001b[39m\"\u001b[39m\u001b[39m.\u001b[39mformat(\n\u001b[1;32m    817\u001b[0m             n_splits, n_candidates, n_candidates \u001b[39m*\u001b[39m n_splits\n\u001b[1;32m    818\u001b[0m         )\n\u001b[1;32m    819\u001b[0m     )\n\u001b[0;32m--> 821\u001b[0m out \u001b[39m=\u001b[39m parallel(\n\u001b[1;32m    822\u001b[0m     delayed(_fit_and_score)(\n\u001b[1;32m    823\u001b[0m         clone(base_estimator),\n\u001b[1;32m    824\u001b[0m         X,\n\u001b[1;32m    825\u001b[0m         y,\n\u001b[1;32m    826\u001b[0m         train\u001b[39m=\u001b[39;49mtrain,\n\u001b[1;32m    827\u001b[0m         test\u001b[39m=\u001b[39;49mtest,\n\u001b[1;32m    828\u001b[0m         parameters\u001b[39m=\u001b[39;49mparameters,\n\u001b[1;32m    829\u001b[0m         split_progress\u001b[39m=\u001b[39;49m(split_idx, n_splits),\n\u001b[1;32m    830\u001b[0m         candidate_progress\u001b[39m=\u001b[39;49m(cand_idx, n_candidates),\n\u001b[1;32m    831\u001b[0m         \u001b[39m*\u001b[39;49m\u001b[39m*\u001b[39;49mfit_and_score_kwargs,\n\u001b[1;32m    832\u001b[0m     )\n\u001b[1;32m    833\u001b[0m     \u001b[39mfor\u001b[39;49;00m (cand_idx, parameters), (split_idx, (train, test)) \u001b[39min\u001b[39;49;00m product(\n\u001b[1;32m    834\u001b[0m         \u001b[39menumerate\u001b[39;49m(candidate_params), \u001b[39menumerate\u001b[39;49m(cv\u001b[39m.\u001b[39;49msplit(X, y, groups))\n\u001b[1;32m    835\u001b[0m     )\n\u001b[1;32m    836\u001b[0m )\n\u001b[1;32m    838\u001b[0m \u001b[39mif\u001b[39;00m \u001b[39mlen\u001b[39m(out) \u001b[39m<\u001b[39m \u001b[39m1\u001b[39m:\n\u001b[1;32m    839\u001b[0m     \u001b[39mraise\u001b[39;00m \u001b[39mValueError\u001b[39;00m(\n\u001b[1;32m    840\u001b[0m         \u001b[39m\"\u001b[39m\u001b[39mNo fits were performed. \u001b[39m\u001b[39m\"\u001b[39m\n\u001b[1;32m    841\u001b[0m         \u001b[39m\"\u001b[39m\u001b[39mWas the CV iterator empty? \u001b[39m\u001b[39m\"\u001b[39m\n\u001b[1;32m    842\u001b[0m         \u001b[39m\"\u001b[39m\u001b[39mWere there no candidates?\u001b[39m\u001b[39m\"\u001b[39m\n\u001b[1;32m    843\u001b[0m     )\n",
      "File \u001b[0;32m~/opt/anaconda3/envs/BachelorsProject/lib/python3.9/site-packages/sklearn/utils/parallel.py:63\u001b[0m, in \u001b[0;36mParallel.__call__\u001b[0;34m(self, iterable)\u001b[0m\n\u001b[1;32m     58\u001b[0m config \u001b[39m=\u001b[39m get_config()\n\u001b[1;32m     59\u001b[0m iterable_with_config \u001b[39m=\u001b[39m (\n\u001b[1;32m     60\u001b[0m     (_with_config(delayed_func, config), args, kwargs)\n\u001b[1;32m     61\u001b[0m     \u001b[39mfor\u001b[39;00m delayed_func, args, kwargs \u001b[39min\u001b[39;00m iterable\n\u001b[1;32m     62\u001b[0m )\n\u001b[0;32m---> 63\u001b[0m \u001b[39mreturn\u001b[39;00m \u001b[39msuper\u001b[39;49m()\u001b[39m.\u001b[39;49m\u001b[39m__call__\u001b[39;49m(iterable_with_config)\n",
      "File \u001b[0;32m~/opt/anaconda3/envs/BachelorsProject/lib/python3.9/site-packages/joblib/parallel.py:1061\u001b[0m, in \u001b[0;36mParallel.__call__\u001b[0;34m(self, iterable)\u001b[0m\n\u001b[1;32m   1058\u001b[0m     \u001b[39mself\u001b[39m\u001b[39m.\u001b[39m_iterating \u001b[39m=\u001b[39m \u001b[39mFalse\u001b[39;00m\n\u001b[1;32m   1060\u001b[0m \u001b[39mwith\u001b[39;00m \u001b[39mself\u001b[39m\u001b[39m.\u001b[39m_backend\u001b[39m.\u001b[39mretrieval_context():\n\u001b[0;32m-> 1061\u001b[0m     \u001b[39mself\u001b[39;49m\u001b[39m.\u001b[39;49mretrieve()\n\u001b[1;32m   1062\u001b[0m \u001b[39m# Make sure that we get a last message telling us we are done\u001b[39;00m\n\u001b[1;32m   1063\u001b[0m elapsed_time \u001b[39m=\u001b[39m time\u001b[39m.\u001b[39mtime() \u001b[39m-\u001b[39m \u001b[39mself\u001b[39m\u001b[39m.\u001b[39m_start_time\n",
      "File \u001b[0;32m~/opt/anaconda3/envs/BachelorsProject/lib/python3.9/site-packages/joblib/parallel.py:938\u001b[0m, in \u001b[0;36mParallel.retrieve\u001b[0;34m(self)\u001b[0m\n\u001b[1;32m    936\u001b[0m \u001b[39mtry\u001b[39;00m:\n\u001b[1;32m    937\u001b[0m     \u001b[39mif\u001b[39;00m \u001b[39mgetattr\u001b[39m(\u001b[39mself\u001b[39m\u001b[39m.\u001b[39m_backend, \u001b[39m'\u001b[39m\u001b[39msupports_timeout\u001b[39m\u001b[39m'\u001b[39m, \u001b[39mFalse\u001b[39;00m):\n\u001b[0;32m--> 938\u001b[0m         \u001b[39mself\u001b[39m\u001b[39m.\u001b[39m_output\u001b[39m.\u001b[39mextend(job\u001b[39m.\u001b[39;49mget(timeout\u001b[39m=\u001b[39;49m\u001b[39mself\u001b[39;49m\u001b[39m.\u001b[39;49mtimeout))\n\u001b[1;32m    939\u001b[0m     \u001b[39melse\u001b[39;00m:\n\u001b[1;32m    940\u001b[0m         \u001b[39mself\u001b[39m\u001b[39m.\u001b[39m_output\u001b[39m.\u001b[39mextend(job\u001b[39m.\u001b[39mget())\n",
      "File \u001b[0;32m~/opt/anaconda3/envs/BachelorsProject/lib/python3.9/site-packages/joblib/_parallel_backends.py:542\u001b[0m, in \u001b[0;36mLokyBackend.wrap_future_result\u001b[0;34m(future, timeout)\u001b[0m\n\u001b[1;32m    539\u001b[0m \u001b[39m\u001b[39m\u001b[39m\"\"\"Wrapper for Future.result to implement the same behaviour as\u001b[39;00m\n\u001b[1;32m    540\u001b[0m \u001b[39mAsyncResults.get from multiprocessing.\"\"\"\u001b[39;00m\n\u001b[1;32m    541\u001b[0m \u001b[39mtry\u001b[39;00m:\n\u001b[0;32m--> 542\u001b[0m     \u001b[39mreturn\u001b[39;00m future\u001b[39m.\u001b[39;49mresult(timeout\u001b[39m=\u001b[39;49mtimeout)\n\u001b[1;32m    543\u001b[0m \u001b[39mexcept\u001b[39;00m CfTimeoutError \u001b[39mas\u001b[39;00m e:\n\u001b[1;32m    544\u001b[0m     \u001b[39mraise\u001b[39;00m \u001b[39mTimeoutError\u001b[39;00m \u001b[39mfrom\u001b[39;00m \u001b[39me\u001b[39;00m\n",
      "File \u001b[0;32m~/opt/anaconda3/envs/BachelorsProject/lib/python3.9/concurrent/futures/_base.py:441\u001b[0m, in \u001b[0;36mFuture.result\u001b[0;34m(self, timeout)\u001b[0m\n\u001b[1;32m    438\u001b[0m \u001b[39melif\u001b[39;00m \u001b[39mself\u001b[39m\u001b[39m.\u001b[39m_state \u001b[39m==\u001b[39m FINISHED:\n\u001b[1;32m    439\u001b[0m     \u001b[39mreturn\u001b[39;00m \u001b[39mself\u001b[39m\u001b[39m.\u001b[39m__get_result()\n\u001b[0;32m--> 441\u001b[0m \u001b[39mself\u001b[39;49m\u001b[39m.\u001b[39;49m_condition\u001b[39m.\u001b[39;49mwait(timeout)\n\u001b[1;32m    443\u001b[0m \u001b[39mif\u001b[39;00m \u001b[39mself\u001b[39m\u001b[39m.\u001b[39m_state \u001b[39min\u001b[39;00m [CANCELLED, CANCELLED_AND_NOTIFIED]:\n\u001b[1;32m    444\u001b[0m     \u001b[39mraise\u001b[39;00m CancelledError()\n",
      "File \u001b[0;32m~/opt/anaconda3/envs/BachelorsProject/lib/python3.9/threading.py:312\u001b[0m, in \u001b[0;36mCondition.wait\u001b[0;34m(self, timeout)\u001b[0m\n\u001b[1;32m    310\u001b[0m \u001b[39mtry\u001b[39;00m:    \u001b[39m# restore state no matter what (e.g., KeyboardInterrupt)\u001b[39;00m\n\u001b[1;32m    311\u001b[0m     \u001b[39mif\u001b[39;00m timeout \u001b[39mis\u001b[39;00m \u001b[39mNone\u001b[39;00m:\n\u001b[0;32m--> 312\u001b[0m         waiter\u001b[39m.\u001b[39;49macquire()\n\u001b[1;32m    313\u001b[0m         gotit \u001b[39m=\u001b[39m \u001b[39mTrue\u001b[39;00m\n\u001b[1;32m    314\u001b[0m     \u001b[39melse\u001b[39;00m:\n",
      "\u001b[0;31mKeyboardInterrupt\u001b[0m: "
     ]
    }
   ],
   "source": [
    "grid_search2 = GridSearchCV(estimator=pipeline2, param_grid=sentiment_params, cv=5, n_jobs=5, verbose=1)\n",
    "grid_search2.fit(X2_train, y2_train)\n",
    "y2_pred = grid_search2.predict(X2_val)\n",
    "google2_pred = grid_search2.predict(google_sample)\n",
    "euans_report = classification_report(y2_val, y2_pred)\n",
    "google_report = classification_report(google2_pred, y2_pred)\n",
    "\n",
    "print('Euans Report\\n', euans_report)\n",
    "print('Google Report\\n', google_report)"
   ]
  },
  {
   "cell_type": "code",
   "execution_count": null,
   "metadata": {},
   "outputs": [],
   "source": [
    "# save report as a text file\n",
    "with open('../Results/google_sentiment_analysis_report.txt', 'w') as f:\n",
    "    f.write(google_report)\n",
    "    \n",
    "with open('../Results/euans_sentiment_analysis_report.txt', 'w') as f:\n",
    "    f.write(euans_report)\n",
    "\n",
    "# # convert text file to PNG image optimise this as you repeat this code.\n",
    "img = Image.new('RGB', (800, 800), color='white')\n",
    "font = ImageFont.truetype('../media/Fonts/Roboto/Roboto-Black.ttf', 20)\n",
    "draw = ImageDraw.Draw(img)\n",
    "\n",
    "with open('../Results/euans_sentiment_analysis_report.txt', 'r') as f:\n",
    "    y = 0\n",
    "    for line in f.readlines():\n",
    "        draw.text((10, y), line, fill='black', font=font)\n",
    "        y += 20\n",
    "\n",
    "img.save('../Results/euans_sentiment_analysis_report.png')\n",
    "\n",
    "with open('../Results/google_sentiment_analysis_report.txt', 'r') as f:\n",
    "    y = 0\n",
    "    for line in f.readlines():\n",
    "        draw.text((10, y), line, fill='black', font=font)\n",
    "        y += 20\n",
    "\n",
    "img.save('../Results/google_sentiment_analysis_report.png')\n"
   ]
  },
  {
   "cell_type": "code",
   "execution_count": null,
   "metadata": {},
   "outputs": [
    {
     "data": {
      "text/plain": [
       "<sklearn.metrics._plot.confusion_matrix.ConfusionMatrixDisplay at 0x7f99a66a07f0>"
      ]
     },
     "execution_count": 51,
     "metadata": {},
     "output_type": "execute_result"
    },
    {
     "data": {
      "image/png": "[encoded data removed]",
      "text/plain": [
       "<Figure size 640x480 with 2 Axes>"
      ]
     },
     "metadata": {},
     "output_type": "display_data"
    }
   ],
   "source": [
    "cm2 = confusion_matrix(y2_val, google2_pred)\n",
    "\n",
    "display2 = ConfusionMatrixDisplay(confusion_matrix=cm2, display_labels=pos_labels)\n",
    "\n",
    "display2.plot()"
   ]
  },
  {
   "attachments": {},
   "cell_type": "markdown",
   "metadata": {},
   "source": [
    "## Opinion Summarisation"
   ]
  },
  {
   "attachments": {},
   "cell_type": "markdown",
   "metadata": {},
   "source": [
    "Moved this part to Google Colab https://colab.research.google.com/drive/1NVzQ3vS6oaQ7EPFzzij1XbjDQT0QpOBO?usp=sharing"
   ]
  },
  {
   "cell_type": "code",
   "execution_count": null,
   "metadata": {},
   "outputs": [],
   "source": [
    "#clean_test_df.to_csv('/Users/mylene/BachelorsProject/Venue-Accessibility-Google-Reviews/datasets/google_reviews.csv', index=False)\n",
    "#clean_train_df.to_csv(\"/Users/mylene/BachelorsProject/Venue-Accessibility-Google-Reviews/datasets/euans_reviews.csv\", index=False)"
   ]
  },
  {
   "cell_type": "code",
   "execution_count": 27,
   "metadata": {},
   "outputs": [],
   "source": [
    "# from transformers import pipeline\n",
    "# from textblob import TextBlob\n",
    "# summariser = pipeline('summarization', model='distilbert-base-uncased')\n",
    "\n",
    "# \"\"\"\n",
    "# We want the review text per venue, aspect and sentiment.\n",
    "# \"\"\"\n",
    "# # Possibly vader could look at identifying the sentiment correctly.\n",
    "# # [['Venue', 'Aspect', 'Sentiment', 'Text']]\n",
    "\n",
    "\n",
    "# summaries = summariser(euans_reviews, max_length=50, min_length=10)\n",
    "\n",
    "# reviews_per_venue = clean_train_df['summary'] = [summary['Summarised Review'] for summary in summaries]\n",
    "# reviews_per_venue.head()\n",
    "\n",
    "\n",
    "# # Group all reviews per venue\n",
    "# # generate a summary of the sentiment and aspects for that venue."
   ]
  },
  {
   "attachments": {},
   "cell_type": "markdown",
   "metadata": {},
   "source": [
    "## Lex Rank implementation"
   ]
  },
  {
   "cell_type": "code",
   "execution_count": 28,
   "metadata": {},
   "outputs": [
    {
     "data": {
      "text/html": [
       "<div>\n",
       "<style scoped>\n",
       "    .dataframe tbody tr th:only-of-type {\n",
       "        vertical-align: middle;\n",
       "    }\n",
       "\n",
       "    .dataframe tbody tr th {\n",
       "        vertical-align: top;\n",
       "    }\n",
       "\n",
       "    .dataframe thead th {\n",
       "        text-align: right;\n",
       "    }\n",
       "</style>\n",
       "<table border=\"1\" class=\"dataframe\">\n",
       "  <thead>\n",
       "    <tr style=\"text-align: right;\">\n",
       "      <th></th>\n",
       "      <th>Aspect</th>\n",
       "      <th>Rating</th>\n",
       "      <th>Text</th>\n",
       "      <th>Venue</th>\n",
       "      <th>SentenceCount</th>\n",
       "      <th>Sentiment</th>\n",
       "      <th>Label</th>\n",
       "    </tr>\n",
       "  </thead>\n",
       "  <tbody>\n",
       "    <tr>\n",
       "      <th>36</th>\n",
       "      <td>Toilets</td>\n",
       "      <td>4.5</td>\n",
       "      <td>There are quite a few accessible toilets  thro...</td>\n",
       "      <td>the peak at stirling sports village stirling</td>\n",
       "      <td>6</td>\n",
       "      <td>positive</td>\n",
       "      <td>1.0</td>\n",
       "    </tr>\n",
       "    <tr>\n",
       "      <th>41</th>\n",
       "      <td>Toilets</td>\n",
       "      <td>4.0</td>\n",
       "      <td>Accessible toilets on third, fourth and fifth ...</td>\n",
       "      <td>john lewis london</td>\n",
       "      <td>5</td>\n",
       "      <td>positive</td>\n",
       "      <td>1.0</td>\n",
       "    </tr>\n",
       "    <tr>\n",
       "      <th>46</th>\n",
       "      <td>Toilets</td>\n",
       "      <td>4.5</td>\n",
       "      <td>As I mentioned above the toilet is also a chan...</td>\n",
       "      <td>nuffield health edinburgh fitness wellbeing gy...</td>\n",
       "      <td>5</td>\n",
       "      <td>positive</td>\n",
       "      <td>1.0</td>\n",
       "    </tr>\n",
       "    <tr>\n",
       "      <th>160</th>\n",
       "      <td>Toilets</td>\n",
       "      <td>4.0</td>\n",
       "      <td>I visited the accessible loo near reception. T...</td>\n",
       "      <td>lee valley hockey and tennis centre london</td>\n",
       "      <td>7</td>\n",
       "      <td>positive</td>\n",
       "      <td>1.0</td>\n",
       "    </tr>\n",
       "    <tr>\n",
       "      <th>244</th>\n",
       "      <td>Transport &amp; Parking</td>\n",
       "      <td>4.0</td>\n",
       "      <td>Based in the City Centre of Newcastle - there ...</td>\n",
       "      <td>discovery museum newcastle upon tyne</td>\n",
       "      <td>9</td>\n",
       "      <td>positive</td>\n",
       "      <td>1.0</td>\n",
       "    </tr>\n",
       "    <tr>\n",
       "      <th>...</th>\n",
       "      <td>...</td>\n",
       "      <td>...</td>\n",
       "      <td>...</td>\n",
       "      <td>...</td>\n",
       "      <td>...</td>\n",
       "      <td>...</td>\n",
       "      <td>...</td>\n",
       "    </tr>\n",
       "    <tr>\n",
       "      <th>56362</th>\n",
       "      <td>Toilets</td>\n",
       "      <td>5.0</td>\n",
       "      <td>On entering the museum there are three sets of...</td>\n",
       "      <td>the charterhouse london</td>\n",
       "      <td>6</td>\n",
       "      <td>positive</td>\n",
       "      <td>1.0</td>\n",
       "    </tr>\n",
       "    <tr>\n",
       "      <th>56409</th>\n",
       "      <td>Toilets</td>\n",
       "      <td>4.0</td>\n",
       "      <td>There is a small changing places toilet here. ...</td>\n",
       "      <td>burnby hall gardens museum york</td>\n",
       "      <td>5</td>\n",
       "      <td>positive</td>\n",
       "      <td>1.0</td>\n",
       "    </tr>\n",
       "    <tr>\n",
       "      <th>56451</th>\n",
       "      <td>Transport &amp; Parking</td>\n",
       "      <td>5.0</td>\n",
       "      <td>About 200 yards from main railway. Good paveme...</td>\n",
       "      <td>beefeater dundee</td>\n",
       "      <td>5</td>\n",
       "      <td>positive</td>\n",
       "      <td>1.0</td>\n",
       "    </tr>\n",
       "    <tr>\n",
       "      <th>56469</th>\n",
       "      <td>Transport &amp; Parking</td>\n",
       "      <td>5.0</td>\n",
       "      <td>Parking was good.  We used our own WAV Wheelch...</td>\n",
       "      <td>cadbury world birmingham</td>\n",
       "      <td>5</td>\n",
       "      <td>positive</td>\n",
       "      <td>1.0</td>\n",
       "    </tr>\n",
       "    <tr>\n",
       "      <th>56576</th>\n",
       "      <td>Transport &amp; Parking</td>\n",
       "      <td>4.0</td>\n",
       "      <td>There are 2 airports in Tenerife. The nearest ...</td>\n",
       "      <td>hotel el tope puerto de la cruz</td>\n",
       "      <td>9</td>\n",
       "      <td>positive</td>\n",
       "      <td>1.0</td>\n",
       "    </tr>\n",
       "  </tbody>\n",
       "</table>\n",
       "<p>1155 rows × 7 columns</p>\n",
       "</div>"
      ],
      "text/plain": [
       "                    Aspect  Rating  \\\n",
       "36                 Toilets     4.5   \n",
       "41                 Toilets     4.0   \n",
       "46                 Toilets     4.5   \n",
       "160                Toilets     4.0   \n",
       "244    Transport & Parking     4.0   \n",
       "...                    ...     ...   \n",
       "56362              Toilets     5.0   \n",
       "56409              Toilets     4.0   \n",
       "56451  Transport & Parking     5.0   \n",
       "56469  Transport & Parking     5.0   \n",
       "56576  Transport & Parking     4.0   \n",
       "\n",
       "                                                    Text  \\\n",
       "36     There are quite a few accessible toilets  thro...   \n",
       "41     Accessible toilets on third, fourth and fifth ...   \n",
       "46     As I mentioned above the toilet is also a chan...   \n",
       "160    I visited the accessible loo near reception. T...   \n",
       "244    Based in the City Centre of Newcastle - there ...   \n",
       "...                                                  ...   \n",
       "56362  On entering the museum there are three sets of...   \n",
       "56409  There is a small changing places toilet here. ...   \n",
       "56451  About 200 yards from main railway. Good paveme...   \n",
       "56469  Parking was good.  We used our own WAV Wheelch...   \n",
       "56576  There are 2 airports in Tenerife. The nearest ...   \n",
       "\n",
       "                                                   Venue  SentenceCount  \\\n",
       "36          the peak at stirling sports village stirling              6   \n",
       "41                                     john lewis london              5   \n",
       "46     nuffield health edinburgh fitness wellbeing gy...              5   \n",
       "160           lee valley hockey and tennis centre london              7   \n",
       "244                 discovery museum newcastle upon tyne              9   \n",
       "...                                                  ...            ...   \n",
       "56362                            the charterhouse london              6   \n",
       "56409                    burnby hall gardens museum york              5   \n",
       "56451                                   beefeater dundee              5   \n",
       "56469                           cadbury world birmingham              5   \n",
       "56576                    hotel el tope puerto de la cruz              9   \n",
       "\n",
       "      Sentiment  Label  \n",
       "36     positive    1.0  \n",
       "41     positive    1.0  \n",
       "46     positive    1.0  \n",
       "160    positive    1.0  \n",
       "244    positive    1.0  \n",
       "...         ...    ...  \n",
       "56362  positive    1.0  \n",
       "56409  positive    1.0  \n",
       "56451  positive    1.0  \n",
       "56469  positive    1.0  \n",
       "56576  positive    1.0  \n",
       "\n",
       "[1155 rows x 7 columns]"
      ]
     },
     "execution_count": 28,
     "metadata": {},
     "output_type": "execute_result"
    }
   ],
   "source": [
    "import sumy\n",
    "from sumy.parsers.plaintext import PlaintextParser\n",
    "from sumy.nlp.tokenizers import Tokenizer\n",
    "from sumy.summarizers.lex_rank import LexRankSummarizer\n",
    "\n",
    "long_reviews = clean_train_df[clean_train_df['SentenceCount'] > 4]\n",
    "long_reviews\n"
   ]
  },
  {
   "cell_type": "code",
   "execution_count": 29,
   "metadata": {},
   "outputs": [
    {
     "name": "stdout",
     "output_type": "stream",
     "text": [
      "1155\n"
     ]
    }
   ],
   "source": [
    "summaries = []\n",
    "i = 0\n",
    "for review in long_reviews.Text.values.tolist():\n",
    "    parser = PlaintextParser.from_string(review,Tokenizer('english'))\n",
    "    i+=1\n",
    "    lex_rank_summarizer = LexRankSummarizer()\n",
    "    summaries.append(lex_rank_summarizer(parser.document, sentences_count=2)) \n",
    "print(i)"
   ]
  },
  {
   "cell_type": "code",
   "execution_count": 30,
   "metadata": {},
   "outputs": [],
   "source": [
    "pd.set_option('display.max_colwidth', None)"
   ]
  },
  {
   "cell_type": "code",
   "execution_count": 31,
   "metadata": {},
   "outputs": [
    {
     "name": "stderr",
     "output_type": "stream",
     "text": [
      "/var/folders/qk/lcnvt9x13sd1_944mzdqthnh0000gn/T/ipykernel_99257/2328567444.py:1: SettingWithCopyWarning: \n",
      "A value is trying to be set on a copy of a slice from a DataFrame.\n",
      "Try using .loc[row_indexer,col_indexer] = value instead\n",
      "\n",
      "See the caveats in the documentation: https://pandas.pydata.org/pandas-docs/stable/user_guide/indexing.html#returning-a-view-versus-a-copy\n",
      "  long_reviews['Lex Rank Summary'] = summaries\n"
     ]
    },
    {
     "data": {
      "text/html": [
       "<div>\n",
       "<style scoped>\n",
       "    .dataframe tbody tr th:only-of-type {\n",
       "        vertical-align: middle;\n",
       "    }\n",
       "\n",
       "    .dataframe tbody tr th {\n",
       "        vertical-align: top;\n",
       "    }\n",
       "\n",
       "    .dataframe thead th {\n",
       "        text-align: right;\n",
       "    }\n",
       "</style>\n",
       "<table border=\"1\" class=\"dataframe\">\n",
       "  <thead>\n",
       "    <tr style=\"text-align: right;\">\n",
       "      <th></th>\n",
       "      <th>Aspect</th>\n",
       "      <th>Rating</th>\n",
       "      <th>Text</th>\n",
       "      <th>Venue</th>\n",
       "      <th>SentenceCount</th>\n",
       "      <th>Sentiment</th>\n",
       "      <th>Label</th>\n",
       "      <th>Lex Rank Summary</th>\n",
       "    </tr>\n",
       "  </thead>\n",
       "  <tbody>\n",
       "    <tr>\n",
       "      <th>36</th>\n",
       "      <td>Toilets</td>\n",
       "      <td>4.5</td>\n",
       "      <td>There are quite a few accessible toilets  throughout the centre. The smallest of these is located just next to the cafe at the main entrance. The other accessible toilets are a good size all with showering facilities. These are scattered throughout the sports centre including at least 2 upstairs near the gym, 2 near the sports halls, 1 in the ice rink and 1 in the NCA. I did come across one of the toilets that had a bed and portable hoist in but not sure of weight limits etc. I think it would be advisable</td>\n",
       "      <td>the peak at stirling sports village stirling</td>\n",
       "      <td>6</td>\n",
       "      <td>positive</td>\n",
       "      <td>1.0</td>\n",
       "      <td>(There are quite a few accessible toilets  throughout the centre., The smallest of these is located just next to the cafe at the main entrance.)</td>\n",
       "    </tr>\n",
       "    <tr>\n",
       "      <th>41</th>\n",
       "      <td>Toilets</td>\n",
       "      <td>4.0</td>\n",
       "      <td>Accessible toilets on third, fourth and fifth floors.  But:  (i) There is no signage telling you where the accessible toilets are, whereas there is plenty of signage pointing you to the 'normal' toilets.   (ii) Far more seriously, in two of the accessible toilets, 3rd and 4th floors, I found the red emergency cord tied up so that the end of it was about five feet above floor level. This means that anyone who falls over and is stuck on the floor cannot summon assistance. Very very silly and dangerous.</td>\n",
       "      <td>john lewis london</td>\n",
       "      <td>5</td>\n",
       "      <td>positive</td>\n",
       "      <td>1.0</td>\n",
       "      <td>(Accessible toilets on third, fourth and fifth floors., But:  (i) There is no signage telling you where the accessible toilets are, whereas there is plenty of signage pointing you to the 'normal' toilets.)</td>\n",
       "    </tr>\n",
       "    <tr>\n",
       "      <th>46</th>\n",
       "      <td>Toilets</td>\n",
       "      <td>4.5</td>\n",
       "      <td>As I mentioned above the toilet is also a changing room / shower room with seating and rails. There is also a red cord next to the shower although this doesn’t reach to the floor yet. Inside this room there are also two low down accessible lockers which are very spacious. I have taken pictures and written captions which you can view. I dropped a half star as there was not a red cord next to the toilet which I think is a big safety issue.</td>\n",
       "      <td>nuffield health edinburgh fitness wellbeing gym edinburgh</td>\n",
       "      <td>5</td>\n",
       "      <td>positive</td>\n",
       "      <td>1.0</td>\n",
       "      <td>(Inside this room there are also two low down accessible lockers which are very spacious., I dropped a half star as there was not a red cord next to the toilet which I think is a big safety issue.)</td>\n",
       "    </tr>\n",
       "    <tr>\n",
       "      <th>160</th>\n",
       "      <td>Toilets</td>\n",
       "      <td>4.0</td>\n",
       "      <td>I visited the accessible loo near reception. The signs were there but really really tiny. The loo was good - reasonable size, grab rails etc. The door was manual but very light touch to open. Only downside was that there's only a single male and a single female able-bodied loo nearby - so of course everyone used the accessible loo rather than wait.  I did notice another block of loos nearby the courts. The loo I visited was not radar key operated.</td>\n",
       "      <td>lee valley hockey and tennis centre london</td>\n",
       "      <td>7</td>\n",
       "      <td>positive</td>\n",
       "      <td>1.0</td>\n",
       "      <td>(I visited the accessible loo near reception., The signs were there but really really tiny.)</td>\n",
       "    </tr>\n",
       "    <tr>\n",
       "      <th>244</th>\n",
       "      <td>Transport &amp; Parking</td>\n",
       "      <td>4.0</td>\n",
       "      <td>Based in the City Centre of Newcastle - there are a lot of Transport options available to you.  Metro - the local underground style train service is cheap, accessible and mostly(!) reliable with the nearest Station being Central Station. This is a 10-15 minute accessible walk or roll to the Discovery Museum.  Bus - local Bus Stations include Haymarket and Eldon Square with quite a long walk to the Museum from either station. I’d recommend this route if you wanted to see the sights of Newcastle or stop for lunch on the way to the Venue.   There are some closer stops available via local route services and all Public Transport in and around the North East should be Accessible and includes spaces for at least one chair.  Parking - There are a limited number of Disabled parking bays available here - definitely something that could be improved. But the few that are here are close to the entrance, have ample space around them and don’t have any obstructions to the entrance.</td>\n",
       "      <td>discovery museum newcastle upon tyne</td>\n",
       "      <td>9</td>\n",
       "      <td>positive</td>\n",
       "      <td>1.0</td>\n",
       "      <td>(Based in the City Centre of Newcastle - there are a lot of Transport options available to you., This is a 10-15 minute accessible walk or roll to the Discovery Museum.)</td>\n",
       "    </tr>\n",
       "  </tbody>\n",
       "</table>\n",
       "</div>"
      ],
      "text/plain": [
       "                  Aspect  Rating  \\\n",
       "36               Toilets     4.5   \n",
       "41               Toilets     4.0   \n",
       "46               Toilets     4.5   \n",
       "160              Toilets     4.0   \n",
       "244  Transport & Parking     4.0   \n",
       "\n",
       "                                                                                                                                                                                                                                                                                                                                                                                                                                                                                                                                                                                                                                                                                                                                                                                                                                                                                                                                                                                                                       Text  \\\n",
       "36                                                                                                                                                                                                                                                                                                                                                                                                                                                                                          There are quite a few accessible toilets  throughout the centre. The smallest of these is located just next to the cafe at the main entrance. The other accessible toilets are a good size all with showering facilities. These are scattered throughout the sports centre including at least 2 upstairs near the gym, 2 near the sports halls, 1 in the ice rink and 1 in the NCA. I did come across one of the toilets that had a bed and portable hoist in but not sure of weight limits etc. I think it would be advisable    \n",
       "41                                                                                                                                                                                                                                                                                                                                                                                                                                                                                                Accessible toilets on third, fourth and fifth floors.  But:  (i) There is no signage telling you where the accessible toilets are, whereas there is plenty of signage pointing you to the 'normal' toilets.   (ii) Far more seriously, in two of the accessible toilets, 3rd and 4th floors, I found the red emergency cord tied up so that the end of it was about five feet above floor level. This means that anyone who falls over and is stuck on the floor cannot summon assistance. Very very silly and dangerous.   \n",
       "46                                                                                                                                                                                                                                                                                                                                                                                                                                                                                                                                                                As I mentioned above the toilet is also a changing room / shower room with seating and rails. There is also a red cord next to the shower although this doesn’t reach to the floor yet. Inside this room there are also two low down accessible lockers which are very spacious. I have taken pictures and written captions which you can view. I dropped a half star as there was not a red cord next to the toilet which I think is a big safety issue.   \n",
       "160                                                                                                                                                                                                                                                                                                                                                                                                                                                                                                                                                     I visited the accessible loo near reception. The signs were there but really really tiny. The loo was good - reasonable size, grab rails etc. The door was manual but very light touch to open. Only downside was that there's only a single male and a single female able-bodied loo nearby - so of course everyone used the accessible loo rather than wait.  I did notice another block of loos nearby the courts. The loo I visited was not radar key operated.   \n",
       "244  Based in the City Centre of Newcastle - there are a lot of Transport options available to you.  Metro - the local underground style train service is cheap, accessible and mostly(!) reliable with the nearest Station being Central Station. This is a 10-15 minute accessible walk or roll to the Discovery Museum.  Bus - local Bus Stations include Haymarket and Eldon Square with quite a long walk to the Museum from either station. I’d recommend this route if you wanted to see the sights of Newcastle or stop for lunch on the way to the Venue.   There are some closer stops available via local route services and all Public Transport in and around the North East should be Accessible and includes spaces for at least one chair.  Parking - There are a limited number of Disabled parking bays available here - definitely something that could be improved. But the few that are here are close to the entrance, have ample space around them and don’t have any obstructions to the entrance.    \n",
       "\n",
       "                                                         Venue  SentenceCount  \\\n",
       "36                the peak at stirling sports village stirling              6   \n",
       "41                                           john lewis london              5   \n",
       "46   nuffield health edinburgh fitness wellbeing gym edinburgh              5   \n",
       "160                 lee valley hockey and tennis centre london              7   \n",
       "244                       discovery museum newcastle upon tyne              9   \n",
       "\n",
       "    Sentiment  Label  \\\n",
       "36   positive    1.0   \n",
       "41   positive    1.0   \n",
       "46   positive    1.0   \n",
       "160  positive    1.0   \n",
       "244  positive    1.0   \n",
       "\n",
       "                                                                                                                                                                                                  Lex Rank Summary  \n",
       "36                                                                (There are quite a few accessible toilets  throughout the centre., The smallest of these is located just next to the cafe at the main entrance.)  \n",
       "41   (Accessible toilets on third, fourth and fifth floors., But:  (i) There is no signage telling you where the accessible toilets are, whereas there is plenty of signage pointing you to the 'normal' toilets.)  \n",
       "46           (Inside this room there are also two low down accessible lockers which are very spacious., I dropped a half star as there was not a red cord next to the toilet which I think is a big safety issue.)  \n",
       "160                                                                                                                   (I visited the accessible loo near reception., The signs were there but really really tiny.)  \n",
       "244                                      (Based in the City Centre of Newcastle - there are a lot of Transport options available to you., This is a 10-15 minute accessible walk or roll to the Discovery Museum.)  "
      ]
     },
     "execution_count": 31,
     "metadata": {},
     "output_type": "execute_result"
    }
   ],
   "source": [
    "long_reviews['Lex Rank Summary'] = summaries\n",
    "\n",
    "long_reviews.head()"
   ]
  },
  {
   "attachments": {},
   "cell_type": "markdown",
   "metadata": {},
   "source": [
    "## Latenet Semantic Analysis Approach"
   ]
  },
  {
   "cell_type": "code",
   "execution_count": 32,
   "metadata": {},
   "outputs": [],
   "source": [
    "from sumy.summarizers.lsa import LsaSummarizer\n",
    "\n",
    "lsa_summarizer=LsaSummarizer()\n",
    "lsa_summaries = []\n",
    "for review in long_reviews.Text.values.tolist():\n",
    "    lsa_parser=PlaintextParser.from_string(review,Tokenizer('english'))\n",
    "    lsa_summaries.append(lsa_summarizer(lsa_parser.document,2))"
   ]
  },
  {
   "cell_type": "code",
   "execution_count": 33,
   "metadata": {},
   "outputs": [
    {
     "name": "stderr",
     "output_type": "stream",
     "text": [
      "/var/folders/qk/lcnvt9x13sd1_944mzdqthnh0000gn/T/ipykernel_99257/1693373636.py:1: SettingWithCopyWarning: \n",
      "A value is trying to be set on a copy of a slice from a DataFrame.\n",
      "Try using .loc[row_indexer,col_indexer] = value instead\n",
      "\n",
      "See the caveats in the documentation: https://pandas.pydata.org/pandas-docs/stable/user_guide/indexing.html#returning-a-view-versus-a-copy\n",
      "  long_reviews['LSA Summaries'] = lsa_summaries\n"
     ]
    }
   ],
   "source": [
    "long_reviews['LSA Summaries'] = lsa_summaries"
   ]
  },
  {
   "cell_type": "code",
   "execution_count": 34,
   "metadata": {},
   "outputs": [
    {
     "data": {
      "text/html": [
       "<div>\n",
       "<style scoped>\n",
       "    .dataframe tbody tr th:only-of-type {\n",
       "        vertical-align: middle;\n",
       "    }\n",
       "\n",
       "    .dataframe tbody tr th {\n",
       "        vertical-align: top;\n",
       "    }\n",
       "\n",
       "    .dataframe thead th {\n",
       "        text-align: right;\n",
       "    }\n",
       "</style>\n",
       "<table border=\"1\" class=\"dataframe\">\n",
       "  <thead>\n",
       "    <tr style=\"text-align: right;\">\n",
       "      <th></th>\n",
       "      <th>Aspect</th>\n",
       "      <th>Rating</th>\n",
       "      <th>Text</th>\n",
       "      <th>Venue</th>\n",
       "      <th>SentenceCount</th>\n",
       "      <th>Sentiment</th>\n",
       "      <th>Label</th>\n",
       "      <th>Lex Rank Summary</th>\n",
       "      <th>LSA Summaries</th>\n",
       "    </tr>\n",
       "  </thead>\n",
       "  <tbody>\n",
       "    <tr>\n",
       "      <th>36</th>\n",
       "      <td>Toilets</td>\n",
       "      <td>4.5</td>\n",
       "      <td>There are quite a few accessible toilets  throughout the centre. The smallest of these is located just next to the cafe at the main entrance. The other accessible toilets are a good size all with showering facilities. These are scattered throughout the sports centre including at least 2 upstairs near the gym, 2 near the sports halls, 1 in the ice rink and 1 in the NCA. I did come across one of the toilets that had a bed and portable hoist in but not sure of weight limits etc. I think it would be advisable</td>\n",
       "      <td>the peak at stirling sports village stirling</td>\n",
       "      <td>6</td>\n",
       "      <td>positive</td>\n",
       "      <td>1.0</td>\n",
       "      <td>(There are quite a few accessible toilets  throughout the centre., The smallest of these is located just next to the cafe at the main entrance.)</td>\n",
       "      <td>(There are quite a few accessible toilets  throughout the centre., The other accessible toilets are a good size all with showering facilities.)</td>\n",
       "    </tr>\n",
       "    <tr>\n",
       "      <th>41</th>\n",
       "      <td>Toilets</td>\n",
       "      <td>4.0</td>\n",
       "      <td>Accessible toilets on third, fourth and fifth floors.  But:  (i) There is no signage telling you where the accessible toilets are, whereas there is plenty of signage pointing you to the 'normal' toilets.   (ii) Far more seriously, in two of the accessible toilets, 3rd and 4th floors, I found the red emergency cord tied up so that the end of it was about five feet above floor level. This means that anyone who falls over and is stuck on the floor cannot summon assistance. Very very silly and dangerous.</td>\n",
       "      <td>john lewis london</td>\n",
       "      <td>5</td>\n",
       "      <td>positive</td>\n",
       "      <td>1.0</td>\n",
       "      <td>(Accessible toilets on third, fourth and fifth floors., But:  (i) There is no signage telling you where the accessible toilets are, whereas there is plenty of signage pointing you to the 'normal' toilets.)</td>\n",
       "      <td>(But:  (i) There is no signage telling you where the accessible toilets are, whereas there is plenty of signage pointing you to the 'normal' toilets., This means that anyone who falls over and is stuck on the floor cannot summon assistance.)</td>\n",
       "    </tr>\n",
       "    <tr>\n",
       "      <th>46</th>\n",
       "      <td>Toilets</td>\n",
       "      <td>4.5</td>\n",
       "      <td>As I mentioned above the toilet is also a changing room / shower room with seating and rails. There is also a red cord next to the shower although this doesn’t reach to the floor yet. Inside this room there are also two low down accessible lockers which are very spacious. I have taken pictures and written captions which you can view. I dropped a half star as there was not a red cord next to the toilet which I think is a big safety issue.</td>\n",
       "      <td>nuffield health edinburgh fitness wellbeing gym edinburgh</td>\n",
       "      <td>5</td>\n",
       "      <td>positive</td>\n",
       "      <td>1.0</td>\n",
       "      <td>(Inside this room there are also two low down accessible lockers which are very spacious., I dropped a half star as there was not a red cord next to the toilet which I think is a big safety issue.)</td>\n",
       "      <td>(There is also a red cord next to the shower although this doesn’t reach to the floor yet., I have taken pictures and written captions which you can view.)</td>\n",
       "    </tr>\n",
       "    <tr>\n",
       "      <th>160</th>\n",
       "      <td>Toilets</td>\n",
       "      <td>4.0</td>\n",
       "      <td>I visited the accessible loo near reception. The signs were there but really really tiny. The loo was good - reasonable size, grab rails etc. The door was manual but very light touch to open. Only downside was that there's only a single male and a single female able-bodied loo nearby - so of course everyone used the accessible loo rather than wait.  I did notice another block of loos nearby the courts. The loo I visited was not radar key operated.</td>\n",
       "      <td>lee valley hockey and tennis centre london</td>\n",
       "      <td>7</td>\n",
       "      <td>positive</td>\n",
       "      <td>1.0</td>\n",
       "      <td>(I visited the accessible loo near reception., The signs were there but really really tiny.)</td>\n",
       "      <td>(Only downside was that there's only a single male and a single female able-bodied loo nearby - so of course everyone used the accessible loo rather than wait., I did notice another block of loos nearby the courts.)</td>\n",
       "    </tr>\n",
       "    <tr>\n",
       "      <th>244</th>\n",
       "      <td>Transport &amp; Parking</td>\n",
       "      <td>4.0</td>\n",
       "      <td>Based in the City Centre of Newcastle - there are a lot of Transport options available to you.  Metro - the local underground style train service is cheap, accessible and mostly(!) reliable with the nearest Station being Central Station. This is a 10-15 minute accessible walk or roll to the Discovery Museum.  Bus - local Bus Stations include Haymarket and Eldon Square with quite a long walk to the Museum from either station. I’d recommend this route if you wanted to see the sights of Newcastle or stop for lunch on the way to the Venue.   There are some closer stops available via local route services and all Public Transport in and around the North East should be Accessible and includes spaces for at least one chair.  Parking - There are a limited number of Disabled parking bays available here - definitely something that could be improved. But the few that are here are close to the entrance, have ample space around them and don’t have any obstructions to the entrance.</td>\n",
       "      <td>discovery museum newcastle upon tyne</td>\n",
       "      <td>9</td>\n",
       "      <td>positive</td>\n",
       "      <td>1.0</td>\n",
       "      <td>(Based in the City Centre of Newcastle - there are a lot of Transport options available to you., This is a 10-15 minute accessible walk or roll to the Discovery Museum.)</td>\n",
       "      <td>(Metro - the local underground style train service is cheap, accessible and mostly(!), This is a 10-15 minute accessible walk or roll to the Discovery Museum.)</td>\n",
       "    </tr>\n",
       "  </tbody>\n",
       "</table>\n",
       "</div>"
      ],
      "text/plain": [
       "                  Aspect  Rating  \\\n",
       "36               Toilets     4.5   \n",
       "41               Toilets     4.0   \n",
       "46               Toilets     4.5   \n",
       "160              Toilets     4.0   \n",
       "244  Transport & Parking     4.0   \n",
       "\n",
       "                                                                                                                                                                                                                                                                                                                                                                                                                                                                                                                                                                                                                                                                                                                                                                                                                                                                                                                                                                                                                       Text  \\\n",
       "36                                                                                                                                                                                                                                                                                                                                                                                                                                                                                          There are quite a few accessible toilets  throughout the centre. The smallest of these is located just next to the cafe at the main entrance. The other accessible toilets are a good size all with showering facilities. These are scattered throughout the sports centre including at least 2 upstairs near the gym, 2 near the sports halls, 1 in the ice rink and 1 in the NCA. I did come across one of the toilets that had a bed and portable hoist in but not sure of weight limits etc. I think it would be advisable    \n",
       "41                                                                                                                                                                                                                                                                                                                                                                                                                                                                                                Accessible toilets on third, fourth and fifth floors.  But:  (i) There is no signage telling you where the accessible toilets are, whereas there is plenty of signage pointing you to the 'normal' toilets.   (ii) Far more seriously, in two of the accessible toilets, 3rd and 4th floors, I found the red emergency cord tied up so that the end of it was about five feet above floor level. This means that anyone who falls over and is stuck on the floor cannot summon assistance. Very very silly and dangerous.   \n",
       "46                                                                                                                                                                                                                                                                                                                                                                                                                                                                                                                                                                As I mentioned above the toilet is also a changing room / shower room with seating and rails. There is also a red cord next to the shower although this doesn’t reach to the floor yet. Inside this room there are also two low down accessible lockers which are very spacious. I have taken pictures and written captions which you can view. I dropped a half star as there was not a red cord next to the toilet which I think is a big safety issue.   \n",
       "160                                                                                                                                                                                                                                                                                                                                                                                                                                                                                                                                                     I visited the accessible loo near reception. The signs were there but really really tiny. The loo was good - reasonable size, grab rails etc. The door was manual but very light touch to open. Only downside was that there's only a single male and a single female able-bodied loo nearby - so of course everyone used the accessible loo rather than wait.  I did notice another block of loos nearby the courts. The loo I visited was not radar key operated.   \n",
       "244  Based in the City Centre of Newcastle - there are a lot of Transport options available to you.  Metro - the local underground style train service is cheap, accessible and mostly(!) reliable with the nearest Station being Central Station. This is a 10-15 minute accessible walk or roll to the Discovery Museum.  Bus - local Bus Stations include Haymarket and Eldon Square with quite a long walk to the Museum from either station. I’d recommend this route if you wanted to see the sights of Newcastle or stop for lunch on the way to the Venue.   There are some closer stops available via local route services and all Public Transport in and around the North East should be Accessible and includes spaces for at least one chair.  Parking - There are a limited number of Disabled parking bays available here - definitely something that could be improved. But the few that are here are close to the entrance, have ample space around them and don’t have any obstructions to the entrance.    \n",
       "\n",
       "                                                         Venue  SentenceCount  \\\n",
       "36                the peak at stirling sports village stirling              6   \n",
       "41                                           john lewis london              5   \n",
       "46   nuffield health edinburgh fitness wellbeing gym edinburgh              5   \n",
       "160                 lee valley hockey and tennis centre london              7   \n",
       "244                       discovery museum newcastle upon tyne              9   \n",
       "\n",
       "    Sentiment  Label  \\\n",
       "36   positive    1.0   \n",
       "41   positive    1.0   \n",
       "46   positive    1.0   \n",
       "160  positive    1.0   \n",
       "244  positive    1.0   \n",
       "\n",
       "                                                                                                                                                                                                  Lex Rank Summary  \\\n",
       "36                                                                (There are quite a few accessible toilets  throughout the centre., The smallest of these is located just next to the cafe at the main entrance.)   \n",
       "41   (Accessible toilets on third, fourth and fifth floors., But:  (i) There is no signage telling you where the accessible toilets are, whereas there is plenty of signage pointing you to the 'normal' toilets.)   \n",
       "46           (Inside this room there are also two low down accessible lockers which are very spacious., I dropped a half star as there was not a red cord next to the toilet which I think is a big safety issue.)   \n",
       "160                                                                                                                   (I visited the accessible loo near reception., The signs were there but really really tiny.)   \n",
       "244                                      (Based in the City Centre of Newcastle - there are a lot of Transport options available to you., This is a 10-15 minute accessible walk or roll to the Discovery Museum.)   \n",
       "\n",
       "                                                                                                                                                                                                                                         LSA Summaries  \n",
       "36                                                                                                     (There are quite a few accessible toilets  throughout the centre., The other accessible toilets are a good size all with showering facilities.)  \n",
       "41   (But:  (i) There is no signage telling you where the accessible toilets are, whereas there is plenty of signage pointing you to the 'normal' toilets., This means that anyone who falls over and is stuck on the floor cannot summon assistance.)  \n",
       "46                                                                                         (There is also a red cord next to the shower although this doesn’t reach to the floor yet., I have taken pictures and written captions which you can view.)  \n",
       "160                            (Only downside was that there's only a single male and a single female able-bodied loo nearby - so of course everyone used the accessible loo rather than wait., I did notice another block of loos nearby the courts.)  \n",
       "244                                                                                    (Metro - the local underground style train service is cheap, accessible and mostly(!), This is a 10-15 minute accessible walk or roll to the Discovery Museum.)  "
      ]
     },
     "execution_count": 34,
     "metadata": {},
     "output_type": "execute_result"
    }
   ],
   "source": [
    "long_reviews.head()"
   ]
  }
 ],
 "metadata": {
  "kernelspec": {
   "display_name": "Python 3",
   "language": "python",
   "name": "python3"
  },
  "language_info": {
   "codemirror_mode": {
    "name": "ipython",
    "version": 3
   },
   "file_extension": ".py",
   "mimetype": "text/x-python",
   "name": "python",
   "nbconvert_exporter": "python",
   "pygments_lexer": "ipython3",
   "version": "3.9.16"
  },
  "orig_nbformat": 4
 },
 "nbformat": 4,
 "nbformat_minor": 2
}
