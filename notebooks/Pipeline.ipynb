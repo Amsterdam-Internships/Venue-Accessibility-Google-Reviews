{
 "cells": [
  {
   "attachments": {},
   "cell_type": "markdown",
   "metadata": {},
   "source": [
    "## Loading files and Environment"
   ]
  },
  {
   "cell_type": "code",
   "execution_count": 1,
   "metadata": {},
   "outputs": [
    {
     "name": "stdout",
     "output_type": "stream",
     "text": [
      "\n",
      "Note: you may need to restart the kernel to use updated packages.\n"
     ]
    }
   ],
   "source": [
    "#%conda env export > environment.yaml"
   ]
  },
  {
   "cell_type": "code",
   "execution_count": 2,
   "metadata": {},
   "outputs": [],
   "source": [
    "import os\n",
    "import glob\n",
    "import pandas as pd\n",
    "import sys\n",
    "import pathlib\n",
    "import sklearn\n",
    "import numpy\n",
    "import nltk\n",
    "from sklearn.metrics import classification_report\n",
    "from sklearn.datasets import load_iris\n",
    "from PIL import Image, ImageDraw, ImageFont\n",
    "from nltk.corpus import stopwords\n",
    "from collections import Counter\n",
    "from sklearn.datasets import load_files\n",
    "from sklearn.feature_extraction.text import CountVectorizer\n",
    "from sklearn.model_selection import train_test_split\n",
    "from sklearn.naive_bayes import MultinomialNB\n",
    "from sklearn.metrics import accuracy_score, precision_score, recall_score, f1_score\n",
    "from sklearn.metrics import precision_recall_fscore_support"
   ]
  },
  {
   "cell_type": "code",
   "execution_count": 3,
   "metadata": {},
   "outputs": [],
   "source": [
    "# Get current directory\n",
    "current_dir = os.getcwd()\n",
    "# Get parent directory\n",
    "parent_dir = os.path.join(current_dir, '..')\n",
    "# Append parent directory to sys.path\n",
    "sys.path.append(parent_dir)\n",
    "from src import data_cleaning as dc"
   ]
  },
  {
   "cell_type": "code",
   "execution_count": 4,
   "metadata": {},
   "outputs": [
    {
     "name": "stdout",
     "output_type": "stream",
     "text": [
      "path: /Users/mylene/BachelorsProject/Venue-Accessibility-Google-Reviews/datasets/EuansGuideData.xlsx\n",
      "path: /Users/mylene/BachelorsProject/Venue-Accessibility-Google-Reviews/datasets/GoogleReviews\n"
     ]
    }
   ],
   "source": [
    "cwd = pathlib.Path.cwd().parent\n",
    "training_file_path = cwd.joinpath(\"datasets/EuansGuideData.xlsx\")\n",
    "test_file_path = cwd.joinpath(\"datasets/GoogleReviews\")\n",
    "print('path:', training_file_path)\n",
    "print('path:', test_file_path)"
   ]
  },
  {
   "cell_type": "code",
   "execution_count": 5,
   "metadata": {},
   "outputs": [],
   "source": [
    "all_file_names = glob.glob(str(test_file_path) + \"/*.csv\")\n",
    "google_df = [pd.read_csv(file_name, index_col=None, header=0) for file_name in all_file_names]\n",
    "test_data = pd.concat(google_df, axis=0, ignore_index=True)"
   ]
  },
  {
   "attachments": {},
   "cell_type": "markdown",
   "metadata": {},
   "source": [
    "## Cleaning & Preprocessing"
   ]
  },
  {
   "cell_type": "code",
   "execution_count": null,
   "metadata": {},
   "outputs": [],
   "source": [
    "training_data = pd.read_excel(training_file_path)\n",
    "clean_train_df = dc.clean_and_select(training_data, [\"Aspect\", \"Rating\", \"Review\", \"Venue\"])\n",
    "clean_test_df = dc.clean_and_select(test_data, [\"Name\",\"Review Rate\", \"Review Text\"])"
   ]
  },
  {
   "cell_type": "code",
   "execution_count": 7,
   "metadata": {},
   "outputs": [
    {
     "data": {
      "text/html": [
       "<div>\n",
       "<style scoped>\n",
       "    .dataframe tbody tr th:only-of-type {\n",
       "        vertical-align: middle;\n",
       "    }\n",
       "\n",
       "    .dataframe tbody tr th {\n",
       "        vertical-align: top;\n",
       "    }\n",
       "\n",
       "    .dataframe thead th {\n",
       "        text-align: right;\n",
       "    }\n",
       "</style>\n",
       "<table border=\"1\" class=\"dataframe\">\n",
       "  <thead>\n",
       "    <tr style=\"text-align: right;\">\n",
       "      <th></th>\n",
       "      <th>Aspect</th>\n",
       "      <th>Rating</th>\n",
       "      <th>Text</th>\n",
       "      <th>Venue</th>\n",
       "      <th>SentenceCount</th>\n",
       "      <th>Sentiment</th>\n",
       "      <th>Label</th>\n",
       "    </tr>\n",
       "  </thead>\n",
       "  <tbody>\n",
       "    <tr>\n",
       "      <th>1</th>\n",
       "      <td>Transport &amp; Parking</td>\n",
       "      <td>5.0</td>\n",
       "      <td>There is disabled parking close to the doors, ...</td>\n",
       "      <td>dobbies garden centre perth</td>\n",
       "      <td>2</td>\n",
       "      <td>positive</td>\n",
       "      <td>1.0</td>\n",
       "    </tr>\n",
       "    <tr>\n",
       "      <th>7</th>\n",
       "      <td>Transport &amp; Parking</td>\n",
       "      <td>4.5</td>\n",
       "      <td>A ten minute walk from the luas, not much near...</td>\n",
       "      <td>bow lane dublin</td>\n",
       "      <td>1</td>\n",
       "      <td>positive</td>\n",
       "      <td>1.0</td>\n",
       "    </tr>\n",
       "    <tr>\n",
       "      <th>14</th>\n",
       "      <td>Toilets</td>\n",
       "      <td>4.5</td>\n",
       "      <td>I did not use the toilets, but if you ring the...</td>\n",
       "      <td>jorvik viking centre york</td>\n",
       "      <td>1</td>\n",
       "      <td>positive</td>\n",
       "      <td>1.0</td>\n",
       "    </tr>\n",
       "    <tr>\n",
       "      <th>17</th>\n",
       "      <td>Transport &amp; Parking</td>\n",
       "      <td>4.5</td>\n",
       "      <td>It's situated on the high street, which has a ...</td>\n",
       "      <td>potter about burntisland</td>\n",
       "      <td>3</td>\n",
       "      <td>positive</td>\n",
       "      <td>1.0</td>\n",
       "    </tr>\n",
       "    <tr>\n",
       "      <th>19</th>\n",
       "      <td>Toilets</td>\n",
       "      <td>4.5</td>\n",
       "      <td>Clean and spacious with a grab rail on one sid...</td>\n",
       "      <td>potter about burntisland</td>\n",
       "      <td>3</td>\n",
       "      <td>positive</td>\n",
       "      <td>1.0</td>\n",
       "    </tr>\n",
       "    <tr>\n",
       "      <th>22</th>\n",
       "      <td>Transport &amp; Parking</td>\n",
       "      <td>5.0</td>\n",
       "      <td>4 spaces next to the front door</td>\n",
       "      <td>dumfries ice bowl dumfries</td>\n",
       "      <td>1</td>\n",
       "      <td>positive</td>\n",
       "      <td>1.0</td>\n",
       "    </tr>\n",
       "    <tr>\n",
       "      <th>34</th>\n",
       "      <td>Transport &amp; Parking</td>\n",
       "      <td>5.0</td>\n",
       "      <td>There is a large car park with a good number o...</td>\n",
       "      <td>the peak at stirling sports village stirling</td>\n",
       "      <td>4</td>\n",
       "      <td>positive</td>\n",
       "      <td>1.0</td>\n",
       "    </tr>\n",
       "    <tr>\n",
       "      <th>36</th>\n",
       "      <td>Toilets</td>\n",
       "      <td>4.5</td>\n",
       "      <td>There are quite a few accessible toilets  thro...</td>\n",
       "      <td>the peak at stirling sports village stirling</td>\n",
       "      <td>6</td>\n",
       "      <td>positive</td>\n",
       "      <td>1.0</td>\n",
       "    </tr>\n",
       "    <tr>\n",
       "      <th>41</th>\n",
       "      <td>Toilets</td>\n",
       "      <td>4.0</td>\n",
       "      <td>Accessible toilets on third, fourth and fifth ...</td>\n",
       "      <td>john lewis london</td>\n",
       "      <td>5</td>\n",
       "      <td>positive</td>\n",
       "      <td>1.0</td>\n",
       "    </tr>\n",
       "    <tr>\n",
       "      <th>44</th>\n",
       "      <td>Transport &amp; Parking</td>\n",
       "      <td>4.0</td>\n",
       "      <td>There is blue badge parking right next to the ...</td>\n",
       "      <td>nuffield health edinburgh fitness wellbeing gy...</td>\n",
       "      <td>3</td>\n",
       "      <td>positive</td>\n",
       "      <td>1.0</td>\n",
       "    </tr>\n",
       "  </tbody>\n",
       "</table>\n",
       "</div>"
      ],
      "text/plain": [
       "                 Aspect  Rating  \\\n",
       "1   Transport & Parking     5.0   \n",
       "7   Transport & Parking     4.5   \n",
       "14              Toilets     4.5   \n",
       "17  Transport & Parking     4.5   \n",
       "19              Toilets     4.5   \n",
       "22  Transport & Parking     5.0   \n",
       "34  Transport & Parking     5.0   \n",
       "36              Toilets     4.5   \n",
       "41              Toilets     4.0   \n",
       "44  Transport & Parking     4.0   \n",
       "\n",
       "                                                 Text  \\\n",
       "1   There is disabled parking close to the doors, ...   \n",
       "7   A ten minute walk from the luas, not much near...   \n",
       "14  I did not use the toilets, but if you ring the...   \n",
       "17  It's situated on the high street, which has a ...   \n",
       "19  Clean and spacious with a grab rail on one sid...   \n",
       "22                    4 spaces next to the front door   \n",
       "34  There is a large car park with a good number o...   \n",
       "36  There are quite a few accessible toilets  thro...   \n",
       "41  Accessible toilets on third, fourth and fifth ...   \n",
       "44  There is blue badge parking right next to the ...   \n",
       "\n",
       "                                                Venue  SentenceCount  \\\n",
       "1                         dobbies garden centre perth              2   \n",
       "7                                     bow lane dublin              1   \n",
       "14                          jorvik viking centre york              1   \n",
       "17                           potter about burntisland              3   \n",
       "19                           potter about burntisland              3   \n",
       "22                         dumfries ice bowl dumfries              1   \n",
       "34       the peak at stirling sports village stirling              4   \n",
       "36       the peak at stirling sports village stirling              6   \n",
       "41                                  john lewis london              5   \n",
       "44  nuffield health edinburgh fitness wellbeing gy...              3   \n",
       "\n",
       "   Sentiment  Label  \n",
       "1   positive    1.0  \n",
       "7   positive    1.0  \n",
       "14  positive    1.0  \n",
       "17  positive    1.0  \n",
       "19  positive    1.0  \n",
       "22  positive    1.0  \n",
       "34  positive    1.0  \n",
       "36  positive    1.0  \n",
       "41  positive    1.0  \n",
       "44  positive    1.0  "
      ]
     },
     "metadata": {},
     "output_type": "display_data"
    },
    {
     "data": {
      "text/html": [
       "<div>\n",
       "<style scoped>\n",
       "    .dataframe tbody tr th:only-of-type {\n",
       "        vertical-align: middle;\n",
       "    }\n",
       "\n",
       "    .dataframe tbody tr th {\n",
       "        vertical-align: top;\n",
       "    }\n",
       "\n",
       "    .dataframe thead th {\n",
       "        text-align: right;\n",
       "    }\n",
       "</style>\n",
       "<table border=\"1\" class=\"dataframe\">\n",
       "  <thead>\n",
       "    <tr style=\"text-align: right;\">\n",
       "      <th></th>\n",
       "      <th>Name</th>\n",
       "      <th>Sentiment</th>\n",
       "      <th>Text</th>\n",
       "      <th>Label</th>\n",
       "    </tr>\n",
       "  </thead>\n",
       "  <tbody>\n",
       "    <tr>\n",
       "      <th>0</th>\n",
       "      <td>Ellis</td>\n",
       "      <td>positive</td>\n",
       "      <td>It was a bit quite when we went in, but don’t ...</td>\n",
       "      <td>1</td>\n",
       "    </tr>\n",
       "    <tr>\n",
       "      <th>1</th>\n",
       "      <td>Ellis</td>\n",
       "      <td>positive</td>\n",
       "      <td>Nice cozy place which serves very tasty burger...</td>\n",
       "      <td>1</td>\n",
       "    </tr>\n",
       "    <tr>\n",
       "      <th>2</th>\n",
       "      <td>Ellis</td>\n",
       "      <td>positive</td>\n",
       "      <td>Really nice place. One of my favourite burger ...</td>\n",
       "      <td>1</td>\n",
       "    </tr>\n",
       "    <tr>\n",
       "      <th>3</th>\n",
       "      <td>Ellis</td>\n",
       "      <td>negative</td>\n",
       "      <td>The Service was quite good but the burgers we ...</td>\n",
       "      <td>0</td>\n",
       "    </tr>\n",
       "    <tr>\n",
       "      <th>4</th>\n",
       "      <td>Ellis</td>\n",
       "      <td>positive</td>\n",
       "      <td>I had a very nice experience! The staff were r...</td>\n",
       "      <td>1</td>\n",
       "    </tr>\n",
       "    <tr>\n",
       "      <th>5</th>\n",
       "      <td>Ellis</td>\n",
       "      <td>positive</td>\n",
       "      <td>Ellis Gourmet Burger - Today (15.03.2018)  I w...</td>\n",
       "      <td>1</td>\n",
       "    </tr>\n",
       "    <tr>\n",
       "      <th>6</th>\n",
       "      <td>Ellis</td>\n",
       "      <td>negative</td>\n",
       "      <td>The taste was okay. Unfortunately, when we got...</td>\n",
       "      <td>0</td>\n",
       "    </tr>\n",
       "    <tr>\n",
       "      <th>7</th>\n",
       "      <td>Ellis</td>\n",
       "      <td>positive</td>\n",
       "      <td>The only disappointing thing about this place ...</td>\n",
       "      <td>1</td>\n",
       "    </tr>\n",
       "    <tr>\n",
       "      <th>8</th>\n",
       "      <td>Ellis</td>\n",
       "      <td>positive</td>\n",
       "      <td>Yesterday in the afternoon we had some burgers...</td>\n",
       "      <td>1</td>\n",
       "    </tr>\n",
       "    <tr>\n",
       "      <th>9</th>\n",
       "      <td>Ellis</td>\n",
       "      <td>positive</td>\n",
       "      <td>Really cosy. Has an actual fireplace. Great fo...</td>\n",
       "      <td>1</td>\n",
       "    </tr>\n",
       "  </tbody>\n",
       "</table>\n",
       "</div>"
      ],
      "text/plain": [
       "    Name Sentiment                                               Text  Label\n",
       "0  Ellis  positive  It was a bit quite when we went in, but don’t ...      1\n",
       "1  Ellis  positive  Nice cozy place which serves very tasty burger...      1\n",
       "2  Ellis  positive  Really nice place. One of my favourite burger ...      1\n",
       "3  Ellis  negative  The Service was quite good but the burgers we ...      0\n",
       "4  Ellis  positive  I had a very nice experience! The staff were r...      1\n",
       "5  Ellis  positive  Ellis Gourmet Burger - Today (15.03.2018)  I w...      1\n",
       "6  Ellis  negative  The taste was okay. Unfortunately, when we got...      0\n",
       "7  Ellis  positive  The only disappointing thing about this place ...      1\n",
       "8  Ellis  positive  Yesterday in the afternoon we had some burgers...      1\n",
       "9  Ellis  positive  Really cosy. Has an actual fireplace. Great fo...      1"
      ]
     },
     "metadata": {},
     "output_type": "display_data"
    }
   ],
   "source": [
    "display(clean_train_df[:10])\n",
    "display(clean_test_df[:10])"
   ]
  },
  {
   "attachments": {},
   "cell_type": "markdown",
   "metadata": {},
   "source": [
    "## Aspect Classification"
   ]
  },
  {
   "attachments": {},
   "cell_type": "markdown",
   "metadata": {},
   "source": [
    "### Split Data"
   ]
  },
  {
   "cell_type": "code",
   "execution_count": 8,
   "metadata": {},
   "outputs": [],
   "source": [
    "vectorizer = CountVectorizer()\n",
    "train = clean_train_df.Text.values.tolist() # rename to Euans\n",
    "test = clean_test_df[:13627].Text.values.tolist() # rename to google \n",
    "train_labels = clean_train_df.Aspect.values.tolist()\n",
    "X = vectorizer.fit_transform(train)\n",
    "X_train, X_test, y_train, y_test = train_test_split(X, train_labels, test_size=0.2, random_state=42)"
   ]
  },
  {
   "cell_type": "code",
   "execution_count": 9,
   "metadata": {},
   "outputs": [],
   "source": [
    "nb = MultinomialNB()\n",
    "nb.fit(X_train, y_train)  # train on Euans dataset\n",
    "y_pred = nb.predict(X_test)  # test on dataset Google Reviews\n",
    "y_pred_probs = nb.predict_proba(X_test)"
   ]
  },
  {
   "cell_type": "code",
   "execution_count": 10,
   "metadata": {},
   "outputs": [],
   "source": [
    "pos_labels = ['Toilets', 'Transport & Parking']"
   ]
  },
  {
   "attachments": {},
   "cell_type": "markdown",
   "metadata": {},
   "source": [
    "### Evaluation Metrics"
   ]
  },
  {
   "cell_type": "code",
   "execution_count": 17,
   "metadata": {},
   "outputs": [],
   "source": [
    "report = classification_report(y_test, y_pred, labels=pos_labels)\n",
    "print(report)\n",
    "# save report as a text file\n",
    "with open('../Results/classification_report.txt', 'w') as f:\n",
    "    f.write(report)\n",
    "\n",
    "# # convert text file to PNG image\n",
    "img = Image.new('RGB', (800, 800), color='white')\n",
    "font = ImageFont.truetype('../media/Fonts/Roboto/Roboto-Black.ttf', 20)\n",
    "draw = ImageDraw.Draw(img)\n",
    "\n",
    "with open('../Results/classification_report.txt', 'r') as f:\n",
    "    y = 0\n",
    "    for line in f.readlines():\n",
    "        draw.text((10, y), line, fill='black', font=font)\n",
    "        y += 20\n",
    "\n",
    "img.save('../Results/classification_report.png')\n"
   ]
  },
  {
   "attachments": {},
   "cell_type": "markdown",
   "metadata": {},
   "source": [
    "## Sentiment Analysis"
   ]
  },
  {
   "cell_type": "code",
   "execution_count": null,
   "metadata": {},
   "outputs": [],
   "source": []
  },
  {
   "cell_type": "code",
   "execution_count": null,
   "metadata": {},
   "outputs": [],
   "source": []
  },
  {
   "attachments": {},
   "cell_type": "markdown",
   "metadata": {},
   "source": [
    "## Opinion Summarisation"
   ]
  },
  {
   "cell_type": "code",
   "execution_count": null,
   "metadata": {},
   "outputs": [],
   "source": []
  }
 ],
 "metadata": {
  "kernelspec": {
   "display_name": "Python 3",
   "language": "python",
   "name": "python3"
  },
  "language_info": {
   "codemirror_mode": {
    "name": "ipython",
    "version": 3
   },
   "file_extension": ".py",
   "mimetype": "text/x-python",
   "name": "python",
   "nbconvert_exporter": "python",
   "pygments_lexer": "ipython3",
   "version": "3.9.16"
  },
  "orig_nbformat": 4
 },
 "nbformat": 4,
 "nbformat_minor": 2
}
