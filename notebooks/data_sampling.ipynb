{
 "cells": [
  {
   "cell_type": "code",
   "execution_count": 79,
   "metadata": {},
   "outputs": [
    {
     "name": "stderr",
     "output_type": "stream",
     "text": [
      "[nltk_data] Downloading package punkt to /Users/mylene/nltk_data...\n",
      "[nltk_data]   Package punkt is already up-to-date!\n"
     ]
    }
   ],
   "source": [
    "import pandas as pd\n",
    "import os\n",
    "from dotenv import load_dotenv\n",
    "import nltk\n",
    "import re\n",
    "import string\n",
    "nltk.download('punkt') \n",
    "load_dotenv()\n",
    "home_path = os.getenv('LOCAL_ENV')\n",
    "google_reviews = pd.read_csv(home_path + 'data/processed/aspect_classification_data/processed_google_reviews.csv')"
   ]
  },
  {
   "attachments": {},
   "cell_type": "markdown",
   "metadata": {},
   "source": [
    "We want to analyse at the sentence level so what we will do is:\n",
    "1. count the amount of sentences per review.\n",
    "2. split the reviews in the sentence count column that have more than one sentence.\n",
    "3. count the amount of words in each review sentence.\n",
    "4. remove reviews that are less than 5 words.\n",
    "5. create a pattern for the fuzzy matcher \n",
    "6. get the synonyms for the words in that matcher\n",
    "\n"
   ]
  },
  {
   "cell_type": "code",
   "execution_count": 80,
   "metadata": {},
   "outputs": [],
   "source": [
    "google_reviews[\"Sentence Count\"] = google_reviews[\"Text\"].apply(lambda x: len(nltk.sent_tokenize(x)))"
   ]
  },
  {
   "cell_type": "code",
   "execution_count": 81,
   "metadata": {},
   "outputs": [
    {
     "data": {
      "text/html": [
       "<div>\n",
       "<style scoped>\n",
       "    .dataframe tbody tr th:only-of-type {\n",
       "        vertical-align: middle;\n",
       "    }\n",
       "\n",
       "    .dataframe tbody tr th {\n",
       "        vertical-align: top;\n",
       "    }\n",
       "\n",
       "    .dataframe thead th {\n",
       "        text-align: right;\n",
       "    }\n",
       "</style>\n",
       "<table border=\"1\" class=\"dataframe\">\n",
       "  <thead>\n",
       "    <tr style=\"text-align: right;\">\n",
       "      <th></th>\n",
       "      <th>Unnamed: 0</th>\n",
       "      <th>Name</th>\n",
       "      <th>Sentiment</th>\n",
       "      <th>Text</th>\n",
       "      <th>Sentence Count</th>\n",
       "    </tr>\n",
       "  </thead>\n",
       "  <tbody>\n",
       "    <tr>\n",
       "      <th>0</th>\n",
       "      <td>0</td>\n",
       "      <td>Ellis</td>\n",
       "      <td>positive</td>\n",
       "      <td>It was a bit quite when we went in, but don’t let that fool you if it’s ever the case! After a little while the place was cozily busy. Rightfully so! The burgers (and nachos) were lovely, as was the staff. I would definitely recommend this place if you’re around and in the need of a good burger.</td>\n",
       "      <td>5</td>\n",
       "    </tr>\n",
       "    <tr>\n",
       "      <th>1</th>\n",
       "      <td>1</td>\n",
       "      <td>Ellis</td>\n",
       "      <td>positive</td>\n",
       "      <td>Nice cozy place which serves very tasty burgers! The staff is friendly and you are served pretty quickly. They have a good selection of burgers and other goodies. The best thing is you can even get a gluten-free bun for no additional cost. …</td>\n",
       "      <td>5</td>\n",
       "    </tr>\n",
       "    <tr>\n",
       "      <th>2</th>\n",
       "      <td>2</td>\n",
       "      <td>Ellis</td>\n",
       "      <td>positive</td>\n",
       "      <td>Really nice place. One of my favourite burger joints whole visiting Amsterdam. Reasonably priced and good quality food. 40euros for 2 burgers and 2 drinks</td>\n",
       "      <td>4</td>\n",
       "    </tr>\n",
       "    <tr>\n",
       "      <th>3</th>\n",
       "      <td>3</td>\n",
       "      <td>Ellis</td>\n",
       "      <td>negative</td>\n",
       "      <td>The Service was quite good but the burgers we ordered were small for the price we paid for. The classic burger was okay but a bit too cold. The Portobello burger says \"grilled vegetables\" but it had almost no vegetables on it. The Burger …</td>\n",
       "      <td>4</td>\n",
       "    </tr>\n",
       "    <tr>\n",
       "      <th>4</th>\n",
       "      <td>4</td>\n",
       "      <td>Ellis</td>\n",
       "      <td>positive</td>\n",
       "      <td>I had a very nice experience! The staff were really nice and were kind to switch the buns for iceberg lettuce (making it Keto friendly). Would highly recommend if looking for a keto friendly place in Amsterdam.</td>\n",
       "      <td>3</td>\n",
       "    </tr>\n",
       "    <tr>\n",
       "      <th>...</th>\n",
       "      <td>...</td>\n",
       "      <td>...</td>\n",
       "      <td>...</td>\n",
       "      <td>...</td>\n",
       "      <td>...</td>\n",
       "    </tr>\n",
       "    <tr>\n",
       "      <th>399718</th>\n",
       "      <td>575747</td>\n",
       "      <td>Amstelhoeck</td>\n",
       "      <td>positive</td>\n",
       "      <td>In a word super\\n\\n\\nEn un mot super</td>\n",
       "      <td>1</td>\n",
       "    </tr>\n",
       "    <tr>\n",
       "      <th>399719</th>\n",
       "      <td>575748</td>\n",
       "      <td>Amstelhoeck</td>\n",
       "      <td>negative</td>\n",
       "      <td>Recommended\\n\\n\\nEmpfehlenswert</td>\n",
       "      <td>1</td>\n",
       "    </tr>\n",
       "    <tr>\n",
       "      <th>399720</th>\n",
       "      <td>575749</td>\n",
       "      <td>Amstelhoeck</td>\n",
       "      <td>positive</td>\n",
       "      <td>Location location location\\n\\n\\nLokatie lokatie lokatie</td>\n",
       "      <td>1</td>\n",
       "    </tr>\n",
       "    <tr>\n",
       "      <th>399721</th>\n",
       "      <td>575750</td>\n",
       "      <td>Amstelhoeck</td>\n",
       "      <td>negative</td>\n",
       "      <td>Nice moment\\n\\n\\nNice moment</td>\n",
       "      <td>1</td>\n",
       "    </tr>\n",
       "    <tr>\n",
       "      <th>399722</th>\n",
       "      <td>575751</td>\n",
       "      <td>Amstelhoeck</td>\n",
       "      <td>positive</td>\n",
       "      <td>Cozy\\n\\n\\nAconchegante 😍😍😍</td>\n",
       "      <td>1</td>\n",
       "    </tr>\n",
       "  </tbody>\n",
       "</table>\n",
       "<p>399723 rows × 5 columns</p>\n",
       "</div>"
      ],
      "text/plain": [
       "        Unnamed: 0         Name Sentiment  \\\n",
       "0                0        Ellis  positive   \n",
       "1                1        Ellis  positive   \n",
       "2                2        Ellis  positive   \n",
       "3                3        Ellis  negative   \n",
       "4                4        Ellis  positive   \n",
       "...            ...          ...       ...   \n",
       "399718      575747  Amstelhoeck  positive   \n",
       "399719      575748  Amstelhoeck  negative   \n",
       "399720      575749  Amstelhoeck  positive   \n",
       "399721      575750  Amstelhoeck  negative   \n",
       "399722      575751  Amstelhoeck  positive   \n",
       "\n",
       "                                                                                                                                                                                                                                                                                                            Text  \\\n",
       "0       It was a bit quite when we went in, but don’t let that fool you if it’s ever the case! After a little while the place was cozily busy. Rightfully so! The burgers (and nachos) were lovely, as was the staff. I would definitely recommend this place if you’re around and in the need of a good burger.   \n",
       "1                                                              Nice cozy place which serves very tasty burgers! The staff is friendly and you are served pretty quickly. They have a good selection of burgers and other goodies. The best thing is you can even get a gluten-free bun for no additional cost. …   \n",
       "2                                                                                                                                                     Really nice place. One of my favourite burger joints whole visiting Amsterdam. Reasonably priced and good quality food. 40euros for 2 burgers and 2 drinks   \n",
       "3                                                                The Service was quite good but the burgers we ordered were small for the price we paid for. The classic burger was okay but a bit too cold. The Portobello burger says \"grilled vegetables\" but it had almost no vegetables on it. The Burger …   \n",
       "4                                                                                             I had a very nice experience! The staff were really nice and were kind to switch the buns for iceberg lettuce (making it Keto friendly). Would highly recommend if looking for a keto friendly place in Amsterdam.   \n",
       "...                                                                                                                                                                                                                                                                                                          ...   \n",
       "399718                                                                                                                                                                                                                                                                      In a word super\\n\\n\\nEn un mot super   \n",
       "399719                                                                                                                                                                                                                                                                           Recommended\\n\\n\\nEmpfehlenswert   \n",
       "399720                                                                                                                                                                                                                                                   Location location location\\n\\n\\nLokatie lokatie lokatie   \n",
       "399721                                                                                                                                                                                                                                                                              Nice moment\\n\\n\\nNice moment   \n",
       "399722                                                                                                                                                                                                                                                                                Cozy\\n\\n\\nAconchegante 😍😍😍   \n",
       "\n",
       "        Sentence Count  \n",
       "0                    5  \n",
       "1                    5  \n",
       "2                    4  \n",
       "3                    4  \n",
       "4                    3  \n",
       "...                ...  \n",
       "399718               1  \n",
       "399719               1  \n",
       "399720               1  \n",
       "399721               1  \n",
       "399722               1  \n",
       "\n",
       "[399723 rows x 5 columns]"
      ]
     },
     "execution_count": 81,
     "metadata": {},
     "output_type": "execute_result"
    }
   ],
   "source": [
    "google_reviews"
   ]
  },
  {
   "attachments": {},
   "cell_type": "markdown",
   "metadata": {},
   "source": [
    "split the reviews in the sentence count column that have more than one sentence."
   ]
  },
  {
   "cell_type": "code",
   "execution_count": 82,
   "metadata": {},
   "outputs": [],
   "source": [
    "# Custom tokenization pattern excluding certain punctuation marks\n",
    "pattern = r'\\b\\w+\\b|[' + re.escape(string.punctuation.replace('.', '')) + '](?<!\\.)'\n",
    "\n",
    "# split the google reviews \n",
    "split_google_reviews = google_reviews.copy()\n",
    "split_google_reviews['Sentences'] = split_google_reviews['Text'].apply(nltk.sent_tokenize)\n",
    "split_google_reviews = split_google_reviews.explode('Sentences').reset_index(drop=True)\n"
   ]
  },
  {
   "cell_type": "code",
   "execution_count": 83,
   "metadata": {},
   "outputs": [],
   "source": [
    "# Count words with custom tokenization pattern\n",
    "split_google_reviews['Word Count'] = split_google_reviews['Sentences'].apply(lambda x: len(nltk.regexp_tokenize(x, pattern)))"
   ]
  },
  {
   "cell_type": "code",
   "execution_count": 84,
   "metadata": {},
   "outputs": [],
   "source": [
    "pd.set_option('display.max_colwidth', None)"
   ]
  },
  {
   "cell_type": "code",
   "execution_count": 85,
   "metadata": {},
   "outputs": [],
   "source": [
    "# Assign unique numeric ID to each review\n",
    "split_google_reviews['Review ID'] = split_google_reviews.groupby('Sentences').ngroup()\n",
    "\n",
    "split_google_reviews = split_google_reviews[split_google_reviews['Sentence Count'] > 1]"
   ]
  },
  {
   "cell_type": "code",
   "execution_count": 86,
   "metadata": {},
   "outputs": [],
   "source": [
    "# Filter out sentences with less than 5 words\n",
    "split_google_reviews = split_google_reviews[split_google_reviews['Word Count'] >= 5]"
   ]
  },
  {
   "cell_type": "code",
   "execution_count": 87,
   "metadata": {},
   "outputs": [
    {
     "data": {
      "text/html": [
       "<div>\n",
       "<style scoped>\n",
       "    .dataframe tbody tr th:only-of-type {\n",
       "        vertical-align: middle;\n",
       "    }\n",
       "\n",
       "    .dataframe tbody tr th {\n",
       "        vertical-align: top;\n",
       "    }\n",
       "\n",
       "    .dataframe thead th {\n",
       "        text-align: right;\n",
       "    }\n",
       "</style>\n",
       "<table border=\"1\" class=\"dataframe\">\n",
       "  <thead>\n",
       "    <tr style=\"text-align: right;\">\n",
       "      <th></th>\n",
       "      <th>Unnamed: 0</th>\n",
       "      <th>Name</th>\n",
       "      <th>Sentiment</th>\n",
       "      <th>Text</th>\n",
       "      <th>Sentence Count</th>\n",
       "      <th>Sentences</th>\n",
       "      <th>Word Count</th>\n",
       "      <th>Review ID</th>\n",
       "    </tr>\n",
       "  </thead>\n",
       "  <tbody>\n",
       "    <tr>\n",
       "      <th>0</th>\n",
       "      <td>0</td>\n",
       "      <td>Ellis</td>\n",
       "      <td>positive</td>\n",
       "      <td>It was a bit quite when we went in, but don’t let that fool you if it’s ever the case! After a little while the place was cozily busy. Rightfully so! The burgers (and nachos) were lovely, as was the staff. I would definitely recommend this place if you’re around and in the need of a good burger.</td>\n",
       "      <td>5</td>\n",
       "      <td>It was a bit quite when we went in, but don’t let that fool you if it’s ever the case!</td>\n",
       "      <td>24</td>\n",
       "      <td>360688</td>\n",
       "    </tr>\n",
       "    <tr>\n",
       "      <th>1</th>\n",
       "      <td>0</td>\n",
       "      <td>Ellis</td>\n",
       "      <td>positive</td>\n",
       "      <td>It was a bit quite when we went in, but don’t let that fool you if it’s ever the case! After a little while the place was cozily busy. Rightfully so! The burgers (and nachos) were lovely, as was the staff. I would definitely recommend this place if you’re around and in the need of a good burger.</td>\n",
       "      <td>5</td>\n",
       "      <td>After a little while the place was cozily busy.</td>\n",
       "      <td>9</td>\n",
       "      <td>152807</td>\n",
       "    </tr>\n",
       "    <tr>\n",
       "      <th>3</th>\n",
       "      <td>0</td>\n",
       "      <td>Ellis</td>\n",
       "      <td>positive</td>\n",
       "      <td>It was a bit quite when we went in, but don’t let that fool you if it’s ever the case! After a little while the place was cozily busy. Rightfully so! The burgers (and nachos) were lovely, as was the staff. I would definitely recommend this place if you’re around and in the need of a good burger.</td>\n",
       "      <td>5</td>\n",
       "      <td>The burgers (and nachos) were lovely, as was the staff.</td>\n",
       "      <td>13</td>\n",
       "      <td>501320</td>\n",
       "    </tr>\n",
       "    <tr>\n",
       "      <th>4</th>\n",
       "      <td>0</td>\n",
       "      <td>Ellis</td>\n",
       "      <td>positive</td>\n",
       "      <td>It was a bit quite when we went in, but don’t let that fool you if it’s ever the case! After a little while the place was cozily busy. Rightfully so! The burgers (and nachos) were lovely, as was the staff. I would definitely recommend this place if you’re around and in the need of a good burger.</td>\n",
       "      <td>5</td>\n",
       "      <td>I would definitely recommend this place if you’re around and in the need of a good burger.</td>\n",
       "      <td>18</td>\n",
       "      <td>342036</td>\n",
       "    </tr>\n",
       "    <tr>\n",
       "      <th>5</th>\n",
       "      <td>1</td>\n",
       "      <td>Ellis</td>\n",
       "      <td>positive</td>\n",
       "      <td>Nice cozy place which serves very tasty burgers! The staff is friendly and you are served pretty quickly. They have a good selection of burgers and other goodies. The best thing is you can even get a gluten-free bun for no additional cost. …</td>\n",
       "      <td>5</td>\n",
       "      <td>Nice cozy place which serves very tasty burgers!</td>\n",
       "      <td>9</td>\n",
       "      <td>402895</td>\n",
       "    </tr>\n",
       "    <tr>\n",
       "      <th>...</th>\n",
       "      <td>...</td>\n",
       "      <td>...</td>\n",
       "      <td>...</td>\n",
       "      <td>...</td>\n",
       "      <td>...</td>\n",
       "      <td>...</td>\n",
       "      <td>...</td>\n",
       "      <td>...</td>\n",
       "    </tr>\n",
       "    <tr>\n",
       "      <th>894092</th>\n",
       "      <td>575689</td>\n",
       "      <td>Amstelhoeck</td>\n",
       "      <td>positive</td>\n",
       "      <td>Located next to the Stopera on the Amstel.\\n\\n …</td>\n",
       "      <td>2</td>\n",
       "      <td>Located next to the Stopera on the Amstel.</td>\n",
       "      <td>8</td>\n",
       "      <td>65897</td>\n",
       "    </tr>\n",
       "    <tr>\n",
       "      <th>894111</th>\n",
       "      <td>575707</td>\n",
       "      <td>Amstelhoeck</td>\n",
       "      <td>negative</td>\n",
       "      <td>To say the least so-so!\\n\\n\\nМягко говоря так себе!</td>\n",
       "      <td>2</td>\n",
       "      <td>To say the least so-so!</td>\n",
       "      <td>8</td>\n",
       "      <td>109168</td>\n",
       "    </tr>\n",
       "    <tr>\n",
       "      <th>894112</th>\n",
       "      <td>575707</td>\n",
       "      <td>Amstelhoeck</td>\n",
       "      <td>negative</td>\n",
       "      <td>To say the least so-so!\\n\\n\\nМягко говоря так себе!</td>\n",
       "      <td>2</td>\n",
       "      <td>Мягко говоря так себе!</td>\n",
       "      <td>5</td>\n",
       "      <td>644131</td>\n",
       "    </tr>\n",
       "    <tr>\n",
       "      <th>894113</th>\n",
       "      <td>575708</td>\n",
       "      <td>Amstelhoeck</td>\n",
       "      <td>positive</td>\n",
       "      <td>It is advisable to reserve a table.\\n\\n …</td>\n",
       "      <td>2</td>\n",
       "      <td>It is advisable to reserve a table.</td>\n",
       "      <td>7</td>\n",
       "      <td>62105</td>\n",
       "    </tr>\n",
       "    <tr>\n",
       "      <th>894120</th>\n",
       "      <td>575717</td>\n",
       "      <td>Amstelhoeck</td>\n",
       "      <td>positive</td>\n",
       "      <td>Simple but good restaurant at Stopera.\\n\\n …</td>\n",
       "      <td>2</td>\n",
       "      <td>Simple but good restaurant at Stopera.</td>\n",
       "      <td>6</td>\n",
       "      <td>90104</td>\n",
       "    </tr>\n",
       "  </tbody>\n",
       "</table>\n",
       "<p>483998 rows × 8 columns</p>\n",
       "</div>"
      ],
      "text/plain": [
       "        Unnamed: 0         Name Sentiment  \\\n",
       "0                0        Ellis  positive   \n",
       "1                0        Ellis  positive   \n",
       "3                0        Ellis  positive   \n",
       "4                0        Ellis  positive   \n",
       "5                1        Ellis  positive   \n",
       "...            ...          ...       ...   \n",
       "894092      575689  Amstelhoeck  positive   \n",
       "894111      575707  Amstelhoeck  negative   \n",
       "894112      575707  Amstelhoeck  negative   \n",
       "894113      575708  Amstelhoeck  positive   \n",
       "894120      575717  Amstelhoeck  positive   \n",
       "\n",
       "                                                                                                                                                                                                                                                                                                            Text  \\\n",
       "0       It was a bit quite when we went in, but don’t let that fool you if it’s ever the case! After a little while the place was cozily busy. Rightfully so! The burgers (and nachos) were lovely, as was the staff. I would definitely recommend this place if you’re around and in the need of a good burger.   \n",
       "1       It was a bit quite when we went in, but don’t let that fool you if it’s ever the case! After a little while the place was cozily busy. Rightfully so! The burgers (and nachos) were lovely, as was the staff. I would definitely recommend this place if you’re around and in the need of a good burger.   \n",
       "3       It was a bit quite when we went in, but don’t let that fool you if it’s ever the case! After a little while the place was cozily busy. Rightfully so! The burgers (and nachos) were lovely, as was the staff. I would definitely recommend this place if you’re around and in the need of a good burger.   \n",
       "4       It was a bit quite when we went in, but don’t let that fool you if it’s ever the case! After a little while the place was cozily busy. Rightfully so! The burgers (and nachos) were lovely, as was the staff. I would definitely recommend this place if you’re around and in the need of a good burger.   \n",
       "5                                                              Nice cozy place which serves very tasty burgers! The staff is friendly and you are served pretty quickly. They have a good selection of burgers and other goodies. The best thing is you can even get a gluten-free bun for no additional cost. …   \n",
       "...                                                                                                                                                                                                                                                                                                          ...   \n",
       "894092                                                                                                                                                                                                                                                          Located next to the Stopera on the Amstel.\\n\\n …   \n",
       "894111                                                                                                                                                                                                                                                       To say the least so-so!\\n\\n\\nМягко говоря так себе!   \n",
       "894112                                                                                                                                                                                                                                                       To say the least so-so!\\n\\n\\nМягко говоря так себе!   \n",
       "894113                                                                                                                                                                                                                                                                 It is advisable to reserve a table.\\n\\n …   \n",
       "894120                                                                                                                                                                                                                                                              Simple but good restaurant at Stopera.\\n\\n …   \n",
       "\n",
       "        Sentence Count  \\\n",
       "0                    5   \n",
       "1                    5   \n",
       "3                    5   \n",
       "4                    5   \n",
       "5                    5   \n",
       "...                ...   \n",
       "894092               2   \n",
       "894111               2   \n",
       "894112               2   \n",
       "894113               2   \n",
       "894120               2   \n",
       "\n",
       "                                                                                         Sentences  \\\n",
       "0           It was a bit quite when we went in, but don’t let that fool you if it’s ever the case!   \n",
       "1                                                  After a little while the place was cozily busy.   \n",
       "3                                          The burgers (and nachos) were lovely, as was the staff.   \n",
       "4       I would definitely recommend this place if you’re around and in the need of a good burger.   \n",
       "5                                                 Nice cozy place which serves very tasty burgers!   \n",
       "...                                                                                            ...   \n",
       "894092                                                  Located next to the Stopera on the Amstel.   \n",
       "894111                                                                     To say the least so-so!   \n",
       "894112                                                                      Мягко говоря так себе!   \n",
       "894113                                                         It is advisable to reserve a table.   \n",
       "894120                                                      Simple but good restaurant at Stopera.   \n",
       "\n",
       "        Word Count  Review ID  \n",
       "0               24     360688  \n",
       "1                9     152807  \n",
       "3               13     501320  \n",
       "4               18     342036  \n",
       "5                9     402895  \n",
       "...            ...        ...  \n",
       "894092           8      65897  \n",
       "894111           8     109168  \n",
       "894112           5     644131  \n",
       "894113           7      62105  \n",
       "894120           6      90104  \n",
       "\n",
       "[483998 rows x 8 columns]"
      ]
     },
     "execution_count": 87,
     "metadata": {},
     "output_type": "execute_result"
    }
   ],
   "source": [
    "split_google_reviews"
   ]
  },
  {
   "cell_type": "code",
   "execution_count": 88,
   "metadata": {},
   "outputs": [],
   "source": [
    "import nltk\n",
    "import spacy\n",
    "from spacy.util import filter_spans\n",
    "from spaczz.matcher import FuzzyMatcher\n",
    "from spacy import matcher\n",
    "from spacy.tokens import Doc\n",
    "from nltk.corpus import wordnet\n",
    "from spacy.tokens import Span\n"
   ]
  },
  {
   "cell_type": "code",
   "execution_count": 89,
   "metadata": {},
   "outputs": [],
   "source": [
    "nlp = spacy.blank(\"en\")\n",
    "matcher = FuzzyMatcher(nlp.vocab)"
   ]
  },
  {
   "attachments": {},
   "cell_type": "markdown",
   "metadata": {},
   "source": [
    "Use the Fuzzy matcher from spaczz and phrase matcher to look for the synonyms related to my previous regex expressipn."
   ]
  },
  {
   "cell_type": "code",
   "execution_count": 90,
   "metadata": {},
   "outputs": [],
   "source": [
    "#'breakfast', 'lunch', 'dinner', 'alcohol'\n",
    "word_patterns = ['food', 'drink', 'lunch', 'breakfast', 'dinner', 'alcohol', 'beer', 'wine','pancakes', 'drink', 'desserts', 'gin', 'wine', 'breakfast', 'lunch', 'pasta',\n",
    "                 'vegeterian', 'vegan', 'burgers', 'pasta', 'dish', 'beer', 'pizza', 'taste',\n",
    "                 'food', 'cocktail', 'coffee', 'menu', 'tasty', 'delicious', 'staff', 'host',\n",
    "                 'ambience', 'atmosphere', 'cozy', 'gezellig', 'service', 'pricey', 'cheap',\n",
    "                 'nice place', 'great place', 'amazing place', 'good place', 'bad place',\n",
    "                 'terrible place', 'great experience', 'chicken', 'burger', 'atmosphere']\n"
   ]
  },
  {
   "cell_type": "code",
   "execution_count": 91,
   "metadata": {},
   "outputs": [],
   "source": [
    "def has_synset(word):\n",
    "    synsets = wordnet.synsets(word)\n",
    "    return len(synsets) > 0"
   ]
  },
  {
   "cell_type": "code",
   "execution_count": 92,
   "metadata": {},
   "outputs": [],
   "source": [
    "def get_synonyms(word):\n",
    "    synonyms = []\n",
    "    synsets = wordnet.synsets(word)\n",
    "    if synsets:\n",
    "        for synset in synsets:\n",
    "            for lemma in synset.lemmas():\n",
    "                synonyms.append(lemma.name())\n",
    "    return list(set(synonyms))"
   ]
  },
  {
   "cell_type": "code",
   "execution_count": 93,
   "metadata": {},
   "outputs": [],
   "source": [
    "def make_pattern(word_patterns):\n",
    "    patterns = []\n",
    "    for word in word_patterns:\n",
    "        if has_synset(word):\n",
    "            synonyms = get_synonyms(word)\n",
    "            pattern = [Doc(nlp.vocab, words=[word])] + [Doc(nlp.vocab, words=[synonym]) for synonym in synonyms]\n",
    "            patterns.extend(pattern)\n",
    "        else:\n",
    "            patterns.append(Doc(nlp.vocab, words=[word]))\n",
    "    return patterns\n"
   ]
  },
  {
   "cell_type": "code",
   "execution_count": 94,
   "metadata": {},
   "outputs": [
    {
     "name": "stdout",
     "output_type": "stream",
     "text": [
      "[food , intellectual_nourishment , food_for_thought , solid_food , food , nutrient , drink , drunkenness , toast , crapulence , beverage , tope , imbibe , wassail , pledge , boozing , fuddle , potable , drinkable , drink , drink_in , booze , drinking , deglutition , swallow , salute , lunch , tiffin , dejeuner , luncheon , lunch , breakfast , breakfast , dinner , dinner , dinner_party , alcohol , alcoholic_drink , intoxicant , alcohol , alcoholic_beverage , inebriant , beer , beer , wine , wine-coloured , wine , wine-colored , vino , pancakes , flapjack , griddlecake , hotcake , flannel-cake , flannel_cake , flapcake , pancake , hot_cake , battercake , drink , drunkenness , toast , crapulence , beverage , tope , imbibe , wassail , pledge , boozing , fuddle , potable , drinkable , drink , drink_in , booze , drinking , deglutition , swallow , salute , desserts , afters , sweet , dessert , gin , gin_rummy , noose , cotton_gin , snare , knock_rummy , gin , wine , wine-coloured , wine , wine-colored , vino , breakfast , breakfast , lunch , tiffin , dejeuner , luncheon , lunch , pasta , alimentary_paste , pasta , vegeterian , vegan , vegan , burgers , burger , Burger , Warren_Burger , Warren_E._Burger , Warren_Earl_Burger , hamburger , beefburger , pasta , alimentary_paste , pasta , dish , sweetheart , cup_of_tea , dish , peach , dish_antenna , smasher , lulu , ravisher , stunner , beauty , saucer , dish_aerial , dishful , knockout , serve_up , looker , serve , mantrap , dish_out , bag , dish_up , beer , beer , pizza , pizza , pizza_pie , taste , savor , gustation , discernment , preference , savour , tasting , taste_perception , gustatory_modality , gustatory_sensation , mouthful , try_out , penchant , predilection , sample , perceptiveness , smack , taste_sensation , gustatory_perception , taste , appreciation , sense_of_taste , try , food , intellectual_nourishment , food_for_thought , solid_food , food , nutrient , cocktail , cocktail , coffee , coffee , chocolate , coffee_bean , coffee_tree , burnt_umber , java , umber , deep_brown , coffee_berry , menu , menu , card , carte , carte_du_jour , bill_of_fare , fare , computer_menu , tasty , tasty , delicious , delectable , yummy , pleasant-tasting , luscious , scrumptious , delicious , delightful , Delicious , toothsome , staff , stave , staff , faculty , host , host , boniface , emcee , master_of_ceremonies , innkeeper , Host , legion , server , horde , ambience , ambience , atmosphere , ambiance , atmosphere , atmosphere , atmospheric_state , standard_pressure , air , ambience , aura , atm , standard_atmosphere , ambiance , cozy , informal , cosy , tea_cozy , snug , tea_cosy , intimate , cozy , gezellig , service , religious_service , divine_service , serve , armed_service , service , servicing , serving , table_service , service_of_process , Robert_William_Service , help , Service , avail , overhaul , inspection_and_repair , military_service , pricey , high-priced , dear , pricey , pricy , costly , cheap , bum , gimcrack , punk , tawdry , sleazy , loud , flashy , tacky , tinny , crummy , chintzy , trashy , gaudy , cheap , garish , tatty , inexpensive , brassy , chinchy , flash , cheesy , meretricious , nice place , great place , amazing place , good place , bad place , terrible place , great experience , chicken , crybaby , white-livered , Gallus_gallus , yellow , chickenhearted , lily-livered , chicken , yellow-bellied , poulet , volaille , wimp , burger , burger , Burger , Warren_Burger , Warren_E._Burger , Warren_Earl_Burger , hamburger , beefburger , atmosphere , atmosphere , atmospheric_state , standard_pressure , air , ambience , aura , atm , standard_atmosphere , ambiance ]\n"
     ]
    }
   ],
   "source": [
    "new_pattern = make_pattern(word_patterns)\n",
    "print(new_pattern)"
   ]
  },
  {
   "cell_type": "code",
   "execution_count": 95,
   "metadata": {},
   "outputs": [
    {
     "name": "stdout",
     "output_type": "stream",
     "text": [
      "327\n"
     ]
    }
   ],
   "source": [
    "print(len(new_pattern))"
   ]
  },
  {
   "cell_type": "code",
   "execution_count": 96,
   "metadata": {},
   "outputs": [],
   "source": [
    "fuzzy_matcher = FuzzyMatcher(nlp.vocab)\n",
    "fuzzy_matcher.add(\"FOOD_PATTERN\", new_pattern)"
   ]
  },
  {
   "cell_type": "code",
   "execution_count": 104,
   "metadata": {},
   "outputs": [],
   "source": [
    "def is_row_noisy(review):\n",
    "    doc = nlp(review)\n",
    "    matches = fuzzy_matcher(doc)\n",
    "    if len(matches) > 0:\n",
    "        return True\n",
    "    else:\n",
    "        return False\n",
    "    "
   ]
  },
  {
   "cell_type": "code",
   "execution_count": 105,
   "metadata": {},
   "outputs": [],
   "source": [
    "# Register max_token_index as an extension\n",
    "Doc.set_extension(\"max_token_index\", default=-1, force=True)"
   ]
  },
  {
   "cell_type": "code",
   "execution_count": 106,
   "metadata": {},
   "outputs": [],
   "source": [
    "# nlp.add_pipe(\"is_row_noisy\", last=True)"
   ]
  },
  {
   "cell_type": "code",
   "execution_count": 107,
   "metadata": {},
   "outputs": [
    {
     "name": "stdout",
     "output_type": "stream",
     "text": [
      "[Staff , stave , staff , faculty , Waitress , waitress , wait ]\n"
     ]
    }
   ],
   "source": [
    "test_pattern = make_pattern(['Staff', 'Waitress'])\n",
    "print(test_pattern)\n",
    "fuzzy_matcher.add(\"TEST_PATTERN\", test_pattern)"
   ]
  },
  {
   "cell_type": "code",
   "execution_count": 108,
   "metadata": {},
   "outputs": [],
   "source": [
    "def remove_noise_test(reviews):\n",
    "    noisy_reviews = []\n",
    "    # docs = [Doc(nlp.vocab, words=[review]) for review in reviews]\n",
    "    for text in reviews:\n",
    "        print('Before: ', text)\n",
    "        matches = is_row_noisy(text)\n",
    "        print('Matches: ', matches)\n",
    "        \n",
    "        # Check if any matches were detected in the document\n",
    "        if is_row_noisy(text):\n",
    "            print('Noisy Review: ', text)\n",
    "            noisy_reviews.append(text)\n",
    "    \n",
    "    return noisy_reviews\n"
   ]
  },
  {
   "cell_type": "code",
   "execution_count": 109,
   "metadata": {},
   "outputs": [],
   "source": [
    "test_reviews = [\"The food is really delicious here.\",\" The staff is very friendly and the waitress was very helpful. I would definitely recommend this place to my friends.\", \"The walls look really disgusting\"]"
   ]
  },
  {
   "cell_type": "code",
   "execution_count": 110,
   "metadata": {},
   "outputs": [
    {
     "name": "stdout",
     "output_type": "stream",
     "text": [
      "Before:  The food is really delicious here.\n",
      "Matches:  True\n",
      "Noisy Review:  The food is really delicious here.\n",
      "Before:   The staff is very friendly and the waitress was very helpful. I would definitely recommend this place to my friends.\n",
      "Matches:  True\n",
      "Noisy Review:   The staff is very friendly and the waitress was very helpful. I would definitely recommend this place to my friends.\n",
      "Before:  The walls look really disgusting\n",
      "Matches:  False\n"
     ]
    },
    {
     "data": {
      "text/plain": [
       "['The food is really delicious here.',\n",
       " ' The staff is very friendly and the waitress was very helpful. I would definitely recommend this place to my friends.']"
      ]
     },
     "execution_count": 110,
     "metadata": {},
     "output_type": "execute_result"
    }
   ],
   "source": [
    "remove_noise_test(test_reviews)"
   ]
  },
  {
   "cell_type": "code",
   "execution_count": 220,
   "metadata": {},
   "outputs": [
    {
     "data": {
      "text/plain": [
       "483998"
      ]
     },
     "execution_count": 220,
     "metadata": {},
     "output_type": "execute_result"
    }
   ],
   "source": [
    "len(split_google_reviews)"
   ]
  },
  {
   "cell_type": "code",
   "execution_count": 112,
   "metadata": {},
   "outputs": [],
   "source": [
    "def remove_noise_better(sample_df):\n",
    "    sample_df.loc[:, 'has_fuzzy_match'] = sample_df['Sentences'].apply(lambda x: is_row_noisy(x))\n",
    "    matching_rows = sample_df[sample_df['has_fuzzy_match'] == True]\n",
    "    noiseless_df = sample_df.drop(matching_rows.index)\n",
    "    # Print the count of true and false values in the has_fuzzy_match column of the sample_df\n",
    "    print(\"Count of true values in has_fuzzy_match column:\", sample_df['has_fuzzy_match'].value_counts()[True])\n",
    "    print(\"Count of false values in has_fuzzy_match column:\", sample_df['has_fuzzy_match'].value_counts()[False])\n",
    "    return noiseless_df\n"
   ]
  },
  {
   "cell_type": "code",
   "execution_count": 113,
   "metadata": {},
   "outputs": [],
   "source": [
    "def clean_data_in_batches(df, batch_size, output_path):\n",
    "    total_batches = len(df) // batch_size + 1  # Calculate the total number of batches\n",
    "    \n",
    "    for i in range(total_batches):\n",
    "        start_idx = i * batch_size\n",
    "        end_idx = (i + 1) * batch_size\n",
    "        \n",
    "        # Extract the current batch of data\n",
    "        batch = df[start_idx:end_idx]\n",
    "        \n",
    "        # Clean the current batch using the remove_noise_better function\n",
    "        clean_batch = remove_noise_better(batch)\n",
    "        \n",
    "        # Save the cleaned batch to a CSV file\n",
    "        batch_output_path = output_path+'/clean_google_reviews_batch.csv'\n",
    "        clean_batch.to_csv(batch_output_path, index=False)\n",
    "        return clean_batch\n"
   ]
  },
  {
   "cell_type": "code",
   "execution_count": 228,
   "metadata": {},
   "outputs": [
    {
     "name": "stderr",
     "output_type": "stream",
     "text": [
      "/var/folders/qk/lcnvt9x13sd1_944mzdqthnh0000gn/T/ipykernel_12165/1819855456.py:2: SettingWithCopyWarning: \n",
      "A value is trying to be set on a copy of a slice from a DataFrame.\n",
      "Try using .loc[row_indexer,col_indexer] = value instead\n",
      "\n",
      "See the caveats in the documentation: https://pandas.pydata.org/pandas-docs/stable/user_guide/indexing.html#returning-a-view-versus-a-copy\n",
      "  sample_df.loc[:, 'has_fuzzy_match'] = sample_df['Sentences'].apply(lambda x: is_row_noisy(x))\n"
     ]
    },
    {
     "name": "stdout",
     "output_type": "stream",
     "text": [
      "Count of true values in has_fuzzy_match column: 270588\n",
      "Count of false values in has_fuzzy_match column: 93410\n"
     ]
    }
   ],
   "source": [
    "clean_dataframe = clean_data_in_batches(split_google_reviews[120000:483998], 363998, home_path+'data/processed/aspect_classification_data')"
   ]
  },
  {
   "cell_type": "code",
   "execution_count": 213,
   "metadata": {},
   "outputs": [
    {
     "name": "stdout",
     "output_type": "stream",
     "text": [
      "Number of rows: 7723\n"
     ]
    }
   ],
   "source": [
    "num_rows = clean_dataframe.shape[0]\n",
    "print(\"Number of rows:\", num_rows)"
   ]
  },
  {
   "cell_type": "code",
   "execution_count": null,
   "metadata": {},
   "outputs": [],
   "source": [
    "clean_dataframe"
   ]
  },
  {
   "cell_type": "code",
   "execution_count": 221,
   "metadata": {},
   "outputs": [
    {
     "name": "stdout",
     "output_type": "stream",
     "text": [
      "[capture, crapper, bewitch, sewer, infinite, entranceway, privy, trance, entryway, catch, access_code, width, charm, memory_access, blank, bathroom, becharm, overview, transport & parking, admission, lavatory, entering, ingress, space, breadth, beguile, admittance, can, blank_space, get_at, outer_space, enchant, stave, john, entry, spellbind, captivate, access, entree, toilet, toilette, commode, gutter, stool, incoming, fascinate, place, entrance, pot, noise levels, wheelchair, faculty, throne, enamour, quad, lav, enamor, distance, potty, accession, approach, staff, toilets]\n"
     ]
    }
   ],
   "source": [
    "aspects_patterns = ['width','space','entrance','wheelchair', 'access', 'staff', 'toilets', 'transport & parking', 'overview', 'noise levels']\n",
    "\n",
    "synonyms = {word: get_synonyms(word) for word in aspects_patterns}\n",
    "\n",
    "# Create a set of all your keywords and their synonyms for efficient lookup\n",
    "keywords = set(aspects_patterns)\n",
    "for word, synonym_list in synonyms.items():\n",
    "    for synonym in synonym_list:\n",
    "        keywords.add(synonym)\n",
    "\n",
    "# Define a function to check if a review contains any keyword\n",
    "def contains_keyword(review):\n",
    "    return any(keyword in review for keyword in keywords)\n",
    "\n",
    "# Create patterns with both the word and its synonyms\n",
    "synonym_aspect_patterns = [nlp(word) for word in keywords]\n",
    "\n",
    "print(synonym_aspect_patterns)\n",
    "# Add patterns to the fuzzy matcher\n",
    "fuzzy_matcher.add(\"RELEVANT_PATTERN\", synonym_aspect_patterns)\n"
   ]
  },
  {
   "cell_type": "code",
   "execution_count": 222,
   "metadata": {},
   "outputs": [],
   "source": [
    "def contains_keyword(review):\n",
    "    return any(keyword in review for keyword in keywords)\n",
    "\n",
    "clean_dataframe['relevant'] = clean_dataframe['Sentences'].apply(contains_keyword)\n"
   ]
  },
  {
   "cell_type": "code",
   "execution_count": 225,
   "metadata": {},
   "outputs": [],
   "source": [
    "true_count = clean_dataframe['relevant'].value_counts()[True]"
   ]
  },
  {
   "cell_type": "code",
   "execution_count": 224,
   "metadata": {},
   "outputs": [],
   "source": [
    "false_count = clean_dataframe['relevant'].value_counts()[False]"
   ]
  },
  {
   "cell_type": "code",
   "execution_count": 226,
   "metadata": {},
   "outputs": [
    {
     "name": "stdout",
     "output_type": "stream",
     "text": [
      "128 7595\n"
     ]
    }
   ],
   "source": [
    "print(true_count, false_count)"
   ]
  },
  {
   "cell_type": "code",
   "execution_count": 227,
   "metadata": {},
   "outputs": [],
   "source": [
    "true_rows = clean_dataframe[clean_dataframe['relevant'] == True]\n",
    "true_rows.to_csv(home_path+'data/processed/aspect_classification_data/true_rows3.csv', index=False)\n"
   ]
  },
  {
   "cell_type": "code",
   "execution_count": 193,
   "metadata": {},
   "outputs": [],
   "source": [
    "def check_relevance(review, pattern= \"RELEVANT_PATTERN\"):\n",
    "    doc = nlp(review)\n",
    "    matches = fuzzy_matcher(doc)\n",
    "    if matches != []:\n",
    "        match_id = matches[0][0]\n",
    "        if match_id == pattern:\n",
    "            return True\n",
    "    else: \n",
    "        return False"
   ]
  },
  {
   "cell_type": "code",
   "execution_count": 194,
   "metadata": {},
   "outputs": [],
   "source": [
    "clean_dataframe['truly relevant'] = clean_dataframe['Sentences'].apply(lambda x: check_relevance(x))"
   ]
  },
  {
   "cell_type": "code",
   "execution_count": null,
   "metadata": {},
   "outputs": [],
   "source": [
    "clean_dataframe"
   ]
  },
  {
   "cell_type": "code",
   "execution_count": 196,
   "metadata": {},
   "outputs": [],
   "source": [
    "true_count = clean_dataframe['truly relevant'].value_counts()[True]"
   ]
  },
  {
   "cell_type": "code",
   "execution_count": 197,
   "metadata": {},
   "outputs": [
    {
     "name": "stdout",
     "output_type": "stream",
     "text": [
      "3931\n"
     ]
    }
   ],
   "source": [
    "print(true_count)"
   ]
  },
  {
   "cell_type": "code",
   "execution_count": 198,
   "metadata": {},
   "outputs": [
    {
     "name": "stderr",
     "output_type": "stream",
     "text": [
      "/var/folders/qk/lcnvt9x13sd1_944mzdqthnh0000gn/T/ipykernel_12165/2930691907.py:1: SettingWithCopyWarning: \n",
      "A value is trying to be set on a copy of a slice from a DataFrame.\n",
      "Try using .loc[row_indexer,col_indexer] = value instead\n",
      "\n",
      "See the caveats in the documentation: https://pandas.pydata.org/pandas-docs/stable/user_guide/indexing.html#returning-a-view-versus-a-copy\n",
      "  true_rows['truly relevant'] = true_rows['Sentences'].apply(lambda x: check_relevance(x))\n"
     ]
    }
   ],
   "source": [
    "true_rows['truly relevant'] = true_rows['Sentences'].apply(lambda x: check_relevance(x))"
   ]
  }
 ],
 "metadata": {
  "kernelspec": {
   "display_name": "Python 3",
   "language": "python",
   "name": "python3"
  },
  "language_info": {
   "codemirror_mode": {
    "name": "ipython",
    "version": 3
   },
   "file_extension": ".py",
   "mimetype": "text/x-python",
   "name": "python",
   "nbconvert_exporter": "python",
   "pygments_lexer": "ipython3",
   "version": "3.9.16"
  },
  "orig_nbformat": 4
 },
 "nbformat": 4,
 "nbformat_minor": 2
}
