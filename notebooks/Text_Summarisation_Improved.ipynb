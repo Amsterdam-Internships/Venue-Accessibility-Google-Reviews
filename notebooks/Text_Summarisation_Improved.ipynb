{
  "cells": [
    {
      "cell_type": "code",
      "execution_count": null,
      "metadata": {
        "id": "grr4p_7-cPGZ"
      },
      "outputs": [],
      "source": [
        "import pandas as pd\n",
        "%pip install rouge\n",
        "from rouge import Rouge\n",
        "import torch\n",
        "import sklearn\n",
        "%pip install transformers\n",
        "import time\n",
        "import json\n",
        "import numpy as np\n",
        "import nltk\n",
        "%pip install sumy\n",
        "import sumy\n",
        "from sumy.parsers.plaintext import PlaintextParser\n",
        "from sumy.nlp.tokenizers import Tokenizer\n",
        "from sumy.summarizers.text_rank import TextRankSummarizer\n",
        "nltk.download('punkt')\n",
        "%pip install simpletransformers"
      ]
    },
    {
      "cell_type": "code",
      "execution_count": 2,
      "metadata": {
        "id": "mXAQlT0Opx-q"
      },
      "outputs": [],
      "source": [
        "import logging"
      ]
    },
    {
      "cell_type": "code",
      "execution_count": 3,
      "metadata": {
        "id": "ik8vQYGOdkz8"
      },
      "outputs": [],
      "source": [
        "if torch.cuda.is_available():\n",
        "    device = \"cuda:0\"\n",
        "else:\n",
        "    device = \"cpu\""
      ]
    },
    {
      "cell_type": "code",
      "execution_count": 4,
      "metadata": {
        "id": "BjOddk9ilJWo"
      },
      "outputs": [],
      "source": [
        "euans_reviews = pd.read_csv(\"/content/data/euans_reviews.csv\")"
      ]
    },
    {
      "cell_type": "code",
      "execution_count": 5,
      "metadata": {
        "id": "DZtwVwHznGxc"
      },
      "outputs": [],
      "source": [
        "google_reviews = pd.read_csv(\"/content/data/trial labels.csv\")"
      ]
    },
    {
      "cell_type": "markdown",
      "metadata": {
        "id": "lTK3NjLpoMuS"
      },
      "source": [
        "Cleaning Euan's Guide and Google dataframes to prepare for summarisation."
      ]
    },
    {
      "cell_type": "code",
      "execution_count": 6,
      "metadata": {
        "id": "TPmN4glmoUwF"
      },
      "outputs": [],
      "source": [
        "euans_reviews = euans_reviews.drop(columns=['Rating', 'Unnamed: 0'])"
      ]
    },
    {
      "cell_type": "code",
      "execution_count": 7,
      "metadata": {
        "id": "MTifCJD4pyxA"
      },
      "outputs": [],
      "source": [
        "google_reviews = google_reviews.drop(columns=['Unnamed: 0'])"
      ]
    },
    {
      "cell_type": "code",
      "execution_count": 8,
      "metadata": {
        "id": "VTssfRwxqUYQ"
      },
      "outputs": [],
      "source": [
        "google_reviews = google_reviews.dropna(subset=['Aspect Label'])"
      ]
    },
    {
      "cell_type": "code",
      "execution_count": 9,
      "metadata": {
        "id": "ZLQBKNk0o5Jf"
      },
      "outputs": [],
      "source": [
        "euans_reviews = euans_reviews[euans_reviews['SentenceCount'] >= 10]"
      ]
    },
    {
      "cell_type": "code",
      "execution_count": 10,
      "metadata": {
        "id": "fwJtV7fTpmlR"
      },
      "outputs": [],
      "source": [
        "euans_reviews = euans_reviews[:843]"
      ]
    },
    {
      "cell_type": "code",
      "execution_count": 11,
      "metadata": {
        "id": "9qHmN1TwskRA"
      },
      "outputs": [],
      "source": [
        "grouped_google_reviews = google_reviews.groupby(['Venue Name', 'Aspect Label', 'Sentiment'])['Text'].apply(' '.join).reset_index()\n"
      ]
    },
    {
      "cell_type": "code",
      "execution_count": 12,
      "metadata": {
        "id": "xCbXc_hgtZMu"
      },
      "outputs": [],
      "source": [
        "grouped_euans_reviews = euans_reviews.groupby(['Venue', 'Aspect', 'Sentiment'])['Text'].apply(lambda x: '. '.join(x)).reset_index()"
      ]
    },
    {
      "cell_type": "code",
      "execution_count": 13,
      "metadata": {
        "id": "SfsAO2RtOgzm"
      },
      "outputs": [],
      "source": [
        "grouped_google_reviews['sentence count'] = grouped_google_reviews['Text'].apply(lambda x: len(nltk.sent_tokenize(x)))\n",
        "grouped_google_reviews = grouped_google_reviews[grouped_google_reviews['sentence count'] > 1]"
      ]
    },
    {
      "cell_type": "code",
      "execution_count": 15,
      "metadata": {
        "id": "9owe7kUvvMZc"
      },
      "outputs": [],
      "source": [
        "grouped_euans_reviews.rename(columns={'Text': 'input_text'}, inplace=True)"
      ]
    },
    {
      "cell_type": "code",
      "execution_count": 20,
      "metadata": {
        "colab": {
          "base_uri": "https://localhost:8080/",
          "height": 34
        },
        "id": "GH5aTcT3nRXT",
        "outputId": "bd298e7f-fe87-4ef5-c144-7a2ff4cb7374"
      },
      "outputs": [
        {
          "data": {
            "text/plain": [
              "Series([], Name: input_text, dtype: object)"
            ]
          },
          "metadata": {},
          "output_type": "display_data"
        }
      ],
      "source": [
        "display(grouped_euans_reviews['input_text'][:0])"
      ]
    },
    {
      "cell_type": "code",
      "execution_count": 17,
      "metadata": {
        "id": "q897AzvPvRCE"
      },
      "outputs": [],
      "source": [
        "grouped_google_reviews.rename(columns={'Text': 'input_text'}, inplace=True)"
      ]
    },
    {
      "cell_type": "code",
      "execution_count": null,
      "metadata": {
        "id": "sf5tffuGvr5k"
      },
      "outputs": [],
      "source": [
        "display(grouped_google_reviews['input_text'][:7])"
      ]
    },
    {
      "cell_type": "markdown",
      "metadata": {
        "id": "rBcxPD-xvvqf"
      },
      "source": [
        "Firstly I create summaries with the Text Rank models"
      ]
    },
    {
      "cell_type": "code",
      "execution_count": 26,
      "metadata": {
        "id": "kH3GC4Hdw036"
      },
      "outputs": [],
      "source": [
        "def text_rank_summarizer(review):\n",
        "    tokenizer = Tokenizer(\"en\")\n",
        "    text_parser = PlaintextParser.from_string(review,tokenizer)\n",
        "    text_rank_obj = TextRankSummarizer()\n",
        "    summary = text_rank_obj(text_parser.document, sentences_count=1)\n",
        "    return summary"
      ]
    },
    {
      "cell_type": "code",
      "execution_count": 28,
      "metadata": {
        "id": "Vih0OS3OxryO"
      },
      "outputs": [],
      "source": [
        "grouped_euans_reviews['Text Rank Summaries'] = grouped_euans_reviews['input_text'].apply(lambda x: text_rank_summarizer(x))"
      ]
    },
    {
      "cell_type": "code",
      "execution_count": 29,
      "metadata": {
        "id": "BEUJogxyZxeh"
      },
      "outputs": [],
      "source": [
        "grouped_euans_reviews['Text Rank Summaries'] = grouped_euans_reviews['Text Rank Summaries'].apply(lambda x: str(x[0]))"
      ]
    },
    {
      "cell_type": "code",
      "execution_count": 36,
      "metadata": {
        "colab": {
          "base_uri": "https://localhost:8080/",
          "height": 51
        },
        "id": "Q19sy-4zzwSb",
        "outputId": "d859030b-626e-4a1f-e96a-dfca7ab427bf"
      },
      "outputs": [
        {
          "data": {
            "text/plain": [
              "0    Depending on the type of wheelchair you have a...\n",
              "Name: Text Rank Summaries, dtype: object"
            ]
          },
          "metadata": {},
          "output_type": "display_data"
        }
      ],
      "source": [
        "display(grouped_euans_reviews['Text Rank Summaries'][:1])"
      ]
    },
    {
      "cell_type": "code",
      "execution_count": 31,
      "metadata": {
        "id": "p9dP-6Q1BXnz"
      },
      "outputs": [],
      "source": [
        "grouped_google_reviews['Text Rank Summaries'] = grouped_google_reviews['input_text'].apply(lambda x: text_rank_summarizer(x))"
      ]
    },
    {
      "cell_type": "code",
      "execution_count": 32,
      "metadata": {
        "id": "WnDB_OisGYcf"
      },
      "outputs": [],
      "source": [
        "grouped_google_reviews = grouped_google_reviews[grouped_google_reviews['Text Rank Summaries'].apply(lambda x: isinstance(x, tuple) and len(x) > 0)]"
      ]
    },
    {
      "cell_type": "code",
      "execution_count": 33,
      "metadata": {
        "colab": {
          "base_uri": "https://localhost:8080/",
          "height": 51
        },
        "id": "8TQRv2MbDt00",
        "outputId": "6d8e086d-db34-49c5-b2e9-96cd0879e1f5"
      },
      "outputs": [
        {
          "data": {
            "text/plain": [
              "8    (We asked for a place by the window and that w...\n",
              "Name: Text Rank Summaries, dtype: object"
            ]
          },
          "metadata": {},
          "output_type": "display_data"
        }
      ],
      "source": [
        "display(grouped_google_reviews['Text Rank Summaries'][:1])"
      ]
    },
    {
      "cell_type": "code",
      "execution_count": 34,
      "metadata": {
        "id": "CDSl8ft5BhAz"
      },
      "outputs": [],
      "source": [
        "grouped_google_reviews['Text Rank Summaries'] = grouped_google_reviews['Text Rank Summaries'].apply(lambda x: str(x[0]))"
      ]
    },
    {
      "cell_type": "code",
      "execution_count": 35,
      "metadata": {
        "colab": {
          "base_uri": "https://localhost:8080/",
          "height": 102
        },
        "id": "ANeMfdLNGlZK",
        "outputId": "7d0064ed-e9fc-431e-8283-7ef7ddb0652e"
      },
      "outputs": [
        {
          "data": {
            "text/plain": [
              "8     Did not take the time to serve you properly. W...\n",
              "10    Why is English spoken all the time, even thoug...\n",
              "23    Nice pizzas, the owners is an italian who know...\n",
              "30    Also good for takeaways when you're at uni, hi...\n",
              "Name: input_text, dtype: object"
            ]
          },
          "metadata": {},
          "output_type": "display_data"
        }
      ],
      "source": [
        "display(grouped_google_reviews['input_text'][:4])"
      ]
    },
    {
      "cell_type": "markdown",
      "metadata": {
        "id": "pA5IYhDGhW2x"
      },
      "source": [
        "BERT Setup"
      ]
    },
    {
      "cell_type": "code",
      "execution_count": 39,
      "metadata": {
        "id": "8pK_wfC7hYrb"
      },
      "outputs": [],
      "source": [
        "from simpletransformers.seq2seq import (\n",
        "    Seq2SeqModel,\n",
        "    Seq2SeqArgs,\n",
        ")\n",
        "logging.basicConfig(level=logging.INFO)\n",
        "transformers_logger = logging.getLogger(\"transformers\")\n",
        "transformers_logger.setLevel(logging.WARNING)\n"
      ]
    },
    {
      "cell_type": "code",
      "execution_count": 37,
      "metadata": {
        "id": "LEJAuuU_pqfA"
      },
      "outputs": [],
      "source": [
        "logging.basicConfig(level=logging.INFO)\n",
        "transformers_logger = logging.getLogger(\"transformers\")\n",
        "transformers_logger.setLevel(logging.WARNING)"
      ]
    },
    {
      "cell_type": "code",
      "execution_count": 40,
      "metadata": {
        "id": "r1QDqE2DrOdT"
      },
      "outputs": [],
      "source": [
        "model_args = Seq2SeqArgs()\n",
        "model_args.num_train_epochs = 10\n",
        "model_args.no_save = True\n",
        "model_args.evaluate_generated_text = True\n",
        "model_args.evaluate_during_training = True\n",
        "model_args.evaluate_during_training_verbose = True"
      ]
    },
    {
      "cell_type": "code",
      "execution_count": 41,
      "metadata": {
        "id": "stjlasrErRSg"
      },
      "outputs": [],
      "source": [
        "# Initialize model\n",
        "model = Seq2SeqModel(\n",
        "    encoder_decoder_type=\"bart\",\n",
        "    encoder_decoder_name=\"facebook/bart-large\",\n",
        "    args=model_args,\n",
        "    use_cuda=True,\n",
        ")"
      ]
    },
    {
      "cell_type": "code",
      "execution_count": 44,
      "metadata": {
        "id": "LPAuhG6XuzCu"
      },
      "outputs": [],
      "source": [
        "grouped_google_reviews.rename(columns={'Text Rank Summaries': 'target_text'}, inplace=True)\n",
        "grouped_euans_reviews.rename(columns={'Text Rank Summaries': 'target_text'}, inplace=True)"
      ]
    },
    {
      "cell_type": "code",
      "execution_count": 48,
      "metadata": {
        "id": "uz8n1tKySlpb"
      },
      "outputs": [],
      "source": [
        "pd.set_option('display.max_colwidth', None)"
      ]
    },
    {
      "cell_type": "code",
      "execution_count": 52,
      "metadata": {
        "colab": {
          "base_uri": "https://localhost:8080/",
          "height": 51
        },
        "id": "F-tDyEN_SG9U",
        "outputId": "3b1898f8-98af-462a-c4d4-43c68d88bc29"
      },
      "outputs": [
        {
          "data": {
            "text/plain": [
              "8    Did not take the time to serve you properly. We asked for a place by the window and that was no problem.\n",
              "Name: input_text, dtype: object"
            ]
          },
          "metadata": {},
          "output_type": "display_data"
        }
      ],
      "source": [
        "display(grouped_google_reviews['input_text'][:1])"
      ]
    },
    {
      "cell_type": "code",
      "execution_count": 53,
      "metadata": {
        "colab": {
          "base_uri": "https://localhost:8080/",
          "height": 54
        },
        "id": "tU5F1dBU0ACU",
        "outputId": "23f9a597-205d-4ec4-a051-27d6201a74af"
      },
      "outputs": [
        {
          "data": {
            "application/vnd.google.colaboratory.intrinsic+json": {
              "type": "string"
            },
            "text/plain": [
              "'Depending on the type of wheelchair you have and the recent weather it may be possible to get on the grass amongst some of the ruins.'"
            ]
          },
          "metadata": {},
          "output_type": "display_data"
        }
      ],
      "source": [
        "display(grouped_euans_reviews['target_text'][0])"
      ]
    },
    {
      "cell_type": "code",
      "execution_count": 54,
      "metadata": {
        "id": "MF2IPW-Kt-WF"
      },
      "outputs": [],
      "source": [
        "input_text = grouped_euans_reviews.input_text.values.tolist()\n",
        "n = len(input_text)"
      ]
    },
    {
      "cell_type": "code",
      "execution_count": 55,
      "metadata": {
        "colab": {
          "base_uri": "https://localhost:8080/"
        },
        "id": "cooTDEcJtjH4",
        "outputId": "5d313305-e66f-4544-c49b-f8bdbf88b6cc"
      },
      "outputs": [
        {
          "name": "stdout",
          "output_type": "stream",
          "text": [
            "640 160\n"
          ]
        }
      ],
      "source": [
        "X_train = grouped_euans_reviews[:round(n*0.8)]\n",
        "X_val = grouped_euans_reviews[:round(n*0.2)]\n",
        "print(len(X_train), len(X_val))"
      ]
    },
    {
      "cell_type": "code",
      "execution_count": null,
      "metadata": {
        "id": "zHhZ4J_oAuiF"
      },
      "outputs": [],
      "source": [
        "model.train_model(X_train, eval_data=X_val, output_dir='/content/model')"
      ]
    },
    {
      "cell_type": "code",
      "execution_count": null,
      "metadata": {
        "id": "qyFPmGkF177h"
      },
      "outputs": [],
      "source": [
        "# Evaluate the model\n",
        "result = model.eval_model(X_val)"
      ]
    },
    {
      "cell_type": "code",
      "execution_count": 60,
      "metadata": {
        "colab": {
          "base_uri": "https://localhost:8080/"
        },
        "id": "FUStFtn8WuX1",
        "outputId": "6f4bb5d4-dffc-456c-cbaf-821507a45cdc"
      },
      "outputs": [
        {
          "name": "stdout",
          "output_type": "stream",
          "text": [
            "{'eval_loss': 0.0833960535004735}\n"
          ]
        }
      ],
      "source": [
        "print(result)"
      ]
    },
    {
      "cell_type": "code",
      "execution_count": 61,
      "metadata": {
        "id": "PmHWCHj8Ukt1"
      },
      "outputs": [],
      "source": [
        "google_review_text = grouped_google_reviews.input_text.values.tolist()"
      ]
    },
    {
      "cell_type": "code",
      "execution_count": 62,
      "metadata": {
        "colab": {
          "base_uri": "https://localhost:8080/",
          "height": 49,
          "referenced_widgets": [
            "7d5d1ac27085426ab031f7fe66cff4f0",
            "cc42cbf9b79f4a7ca59231e22cc8c6e0",
            "bb01a83ce9034bacabe6f54733a9fa30",
            "6c676516cc3b4443ba7d01c9b348b2e6",
            "9457ab95f8204678ad057240ceb509c1",
            "88b89811a02741f28bed5c9ce2351e59",
            "e6546782db77434ebd38753d27b166a9",
            "b4cf5207105347918f7cd51be04ec91a",
            "e60696a1f04940c3abee56bad0e67f9d",
            "2a1fb874449e465fbaf3e5c70e41cf28",
            "ec28e93a2ee5405eb1f97f4d5a6f1107"
          ]
        },
        "id": "bRCwoPA31pM8",
        "outputId": "1df67306-d4a2-451f-c99e-e2f71dfec475"
      },
      "outputs": [
        {
          "data": {
            "application/vnd.jupyter.widget-view+json": {
              "model_id": "7d5d1ac27085426ab031f7fe66cff4f0",
              "version_major": 2,
              "version_minor": 0
            },
            "text/plain": [
              "Generating outputs:   0%|          | 0/13 [00:00<?, ?it/s]"
            ]
          },
          "metadata": {},
          "output_type": "display_data"
        }
      ],
      "source": [
        "grouped_google_reviews['BART Summaries'] = model.predict(google_review_text)"
      ]
    },
    {
      "cell_type": "code",
      "execution_count": 63,
      "metadata": {
        "id": "wF3WPuLdVb2T"
      },
      "outputs": [],
      "source": [
        "google_summaries = grouped_google_reviews['BART Summaries'].values.tolist()"
      ]
    },
    {
      "cell_type": "markdown",
      "metadata": {
        "id": "PeunFnAsU_Zg"
      },
      "source": [
        "Evaluation"
      ]
    },
    {
      "cell_type": "code",
      "execution_count": 67,
      "metadata": {
        "id": "zOmg8OxmVCtg"
      },
      "outputs": [],
      "source": [
        "rouge = Rouge()\n",
        "google_eval = rouge.get_scores(google_summaries, google_review_text, avg=True, ignore_empty=True)"
      ]
    },
    {
      "cell_type": "code",
      "execution_count": 68,
      "metadata": {
        "colab": {
          "base_uri": "https://localhost:8080/"
        },
        "id": "5r5lcItnXWpv",
        "outputId": "86c137b9-09eb-4c6b-c2fa-1dccb63fa4c4"
      },
      "outputs": [
        {
          "name": "stdout",
          "output_type": "stream",
          "text": [
            "{'rouge-1': {'r': 0.4305793224636383, 'p': 0.8206940004440003, 'f': 0.5521754000275468}, 'rouge-2': {'r': 0.3693534394322486, 'p': 0.7568481795981795, 'f': 0.4831863378974397}, 'rouge-l': {'r': 0.4270162834320835, 'p': 0.8136963314463312, 'f': 0.5476364949797173}}\n"
          ]
        }
      ],
      "source": [
        "print(google_eval)"
      ]
    },
    {
      "cell_type": "markdown",
      "metadata": {
        "id": "aOAMTtnbV4Yn"
      },
      "source": [
        "Saving summaries to csv"
      ]
    },
    {
      "cell_type": "code",
      "execution_count": 69,
      "metadata": {
        "id": "BeQzziuIWIeA"
      },
      "outputs": [],
      "source": [
        "grouped_google_reviews['BART Summaries'].to_csv('/content/data/BART_google_summaries.csv')\n",
        "grouped_google_reviews['target_text'].to_csv('/content/data/textrank_google_summaries.csv')"
      ]
    },
    {
      "cell_type": "code",
      "execution_count": 71,
      "metadata": {
        "id": "2Mig6Un_WlGY"
      },
      "outputs": [],
      "source": [
        "grouped_euans_reviews['target_text'].to_csv('/content/data/textrank_euans_summaries.csv')"
      ]
    }
  ],
  "metadata": {
    "accelerator": "GPU",
    "colab": {
      "provenance": []
    },
    "gpuClass": "standard",
    "kernelspec": {
      "display_name": "Python 3",
      "name": "python3"
    },
    "language_info": {
      "name": "python"
    },
    "widgets": {
      "application/vnd.jupyter.widget-state+json": {
        "2a1fb874449e465fbaf3e5c70e41cf28": {
          "model_module": "@jupyter-widgets/base",
          "model_module_version": "1.2.0",
          "model_name": "LayoutModel",
          "state": {
            "_model_module": "@jupyter-widgets/base",
            "_model_module_version": "1.2.0",
            "_model_name": "LayoutModel",
            "_view_count": null,
            "_view_module": "@jupyter-widgets/base",
            "_view_module_version": "1.2.0",
            "_view_name": "LayoutView",
            "align_content": null,
            "align_items": null,
            "align_self": null,
            "border": null,
            "bottom": null,
            "display": null,
            "flex": null,
            "flex_flow": null,
            "grid_area": null,
            "grid_auto_columns": null,
            "grid_auto_flow": null,
            "grid_auto_rows": null,
            "grid_column": null,
            "grid_gap": null,
            "grid_row": null,
            "grid_template_areas": null,
            "grid_template_columns": null,
            "grid_template_rows": null,
            "height": null,
            "justify_content": null,
            "justify_items": null,
            "left": null,
            "margin": null,
            "max_height": null,
            "max_width": null,
            "min_height": null,
            "min_width": null,
            "object_fit": null,
            "object_position": null,
            "order": null,
            "overflow": null,
            "overflow_x": null,
            "overflow_y": null,
            "padding": null,
            "right": null,
            "top": null,
            "visibility": null,
            "width": null
          }
        },
        "6c676516cc3b4443ba7d01c9b348b2e6": {
          "model_module": "@jupyter-widgets/controls",
          "model_module_version": "1.5.0",
          "model_name": "HTMLModel",
          "state": {
            "_dom_classes": [],
            "_model_module": "@jupyter-widgets/controls",
            "_model_module_version": "1.5.0",
            "_model_name": "HTMLModel",
            "_view_count": null,
            "_view_module": "@jupyter-widgets/controls",
            "_view_module_version": "1.5.0",
            "_view_name": "HTMLView",
            "description": "",
            "description_tooltip": null,
            "layout": "IPY_MODEL_2a1fb874449e465fbaf3e5c70e41cf28",
            "placeholder": "​",
            "style": "IPY_MODEL_ec28e93a2ee5405eb1f97f4d5a6f1107",
            "value": " 13/13 [00:07&lt;00:00,  2.28it/s]"
          }
        },
        "7d5d1ac27085426ab031f7fe66cff4f0": {
          "model_module": "@jupyter-widgets/controls",
          "model_module_version": "1.5.0",
          "model_name": "HBoxModel",
          "state": {
            "_dom_classes": [],
            "_model_module": "@jupyter-widgets/controls",
            "_model_module_version": "1.5.0",
            "_model_name": "HBoxModel",
            "_view_count": null,
            "_view_module": "@jupyter-widgets/controls",
            "_view_module_version": "1.5.0",
            "_view_name": "HBoxView",
            "box_style": "",
            "children": [
              "IPY_MODEL_cc42cbf9b79f4a7ca59231e22cc8c6e0",
              "IPY_MODEL_bb01a83ce9034bacabe6f54733a9fa30",
              "IPY_MODEL_6c676516cc3b4443ba7d01c9b348b2e6"
            ],
            "layout": "IPY_MODEL_9457ab95f8204678ad057240ceb509c1"
          }
        },
        "88b89811a02741f28bed5c9ce2351e59": {
          "model_module": "@jupyter-widgets/base",
          "model_module_version": "1.2.0",
          "model_name": "LayoutModel",
          "state": {
            "_model_module": "@jupyter-widgets/base",
            "_model_module_version": "1.2.0",
            "_model_name": "LayoutModel",
            "_view_count": null,
            "_view_module": "@jupyter-widgets/base",
            "_view_module_version": "1.2.0",
            "_view_name": "LayoutView",
            "align_content": null,
            "align_items": null,
            "align_self": null,
            "border": null,
            "bottom": null,
            "display": null,
            "flex": null,
            "flex_flow": null,
            "grid_area": null,
            "grid_auto_columns": null,
            "grid_auto_flow": null,
            "grid_auto_rows": null,
            "grid_column": null,
            "grid_gap": null,
            "grid_row": null,
            "grid_template_areas": null,
            "grid_template_columns": null,
            "grid_template_rows": null,
            "height": null,
            "justify_content": null,
            "justify_items": null,
            "left": null,
            "margin": null,
            "max_height": null,
            "max_width": null,
            "min_height": null,
            "min_width": null,
            "object_fit": null,
            "object_position": null,
            "order": null,
            "overflow": null,
            "overflow_x": null,
            "overflow_y": null,
            "padding": null,
            "right": null,
            "top": null,
            "visibility": null,
            "width": null
          }
        },
        "9457ab95f8204678ad057240ceb509c1": {
          "model_module": "@jupyter-widgets/base",
          "model_module_version": "1.2.0",
          "model_name": "LayoutModel",
          "state": {
            "_model_module": "@jupyter-widgets/base",
            "_model_module_version": "1.2.0",
            "_model_name": "LayoutModel",
            "_view_count": null,
            "_view_module": "@jupyter-widgets/base",
            "_view_module_version": "1.2.0",
            "_view_name": "LayoutView",
            "align_content": null,
            "align_items": null,
            "align_self": null,
            "border": null,
            "bottom": null,
            "display": null,
            "flex": null,
            "flex_flow": null,
            "grid_area": null,
            "grid_auto_columns": null,
            "grid_auto_flow": null,
            "grid_auto_rows": null,
            "grid_column": null,
            "grid_gap": null,
            "grid_row": null,
            "grid_template_areas": null,
            "grid_template_columns": null,
            "grid_template_rows": null,
            "height": null,
            "justify_content": null,
            "justify_items": null,
            "left": null,
            "margin": null,
            "max_height": null,
            "max_width": null,
            "min_height": null,
            "min_width": null,
            "object_fit": null,
            "object_position": null,
            "order": null,
            "overflow": null,
            "overflow_x": null,
            "overflow_y": null,
            "padding": null,
            "right": null,
            "top": null,
            "visibility": null,
            "width": null
          }
        },
        "b4cf5207105347918f7cd51be04ec91a": {
          "model_module": "@jupyter-widgets/base",
          "model_module_version": "1.2.0",
          "model_name": "LayoutModel",
          "state": {
            "_model_module": "@jupyter-widgets/base",
            "_model_module_version": "1.2.0",
            "_model_name": "LayoutModel",
            "_view_count": null,
            "_view_module": "@jupyter-widgets/base",
            "_view_module_version": "1.2.0",
            "_view_name": "LayoutView",
            "align_content": null,
            "align_items": null,
            "align_self": null,
            "border": null,
            "bottom": null,
            "display": null,
            "flex": null,
            "flex_flow": null,
            "grid_area": null,
            "grid_auto_columns": null,
            "grid_auto_flow": null,
            "grid_auto_rows": null,
            "grid_column": null,
            "grid_gap": null,
            "grid_row": null,
            "grid_template_areas": null,
            "grid_template_columns": null,
            "grid_template_rows": null,
            "height": null,
            "justify_content": null,
            "justify_items": null,
            "left": null,
            "margin": null,
            "max_height": null,
            "max_width": null,
            "min_height": null,
            "min_width": null,
            "object_fit": null,
            "object_position": null,
            "order": null,
            "overflow": null,
            "overflow_x": null,
            "overflow_y": null,
            "padding": null,
            "right": null,
            "top": null,
            "visibility": null,
            "width": null
          }
        },
        "bb01a83ce9034bacabe6f54733a9fa30": {
          "model_module": "@jupyter-widgets/controls",
          "model_module_version": "1.5.0",
          "model_name": "FloatProgressModel",
          "state": {
            "_dom_classes": [],
            "_model_module": "@jupyter-widgets/controls",
            "_model_module_version": "1.5.0",
            "_model_name": "FloatProgressModel",
            "_view_count": null,
            "_view_module": "@jupyter-widgets/controls",
            "_view_module_version": "1.5.0",
            "_view_name": "ProgressView",
            "bar_style": "success",
            "description": "",
            "description_tooltip": null,
            "layout": "IPY_MODEL_b4cf5207105347918f7cd51be04ec91a",
            "max": 13,
            "min": 0,
            "orientation": "horizontal",
            "style": "IPY_MODEL_e60696a1f04940c3abee56bad0e67f9d",
            "value": 13
          }
        },
        "cc42cbf9b79f4a7ca59231e22cc8c6e0": {
          "model_module": "@jupyter-widgets/controls",
          "model_module_version": "1.5.0",
          "model_name": "HTMLModel",
          "state": {
            "_dom_classes": [],
            "_model_module": "@jupyter-widgets/controls",
            "_model_module_version": "1.5.0",
            "_model_name": "HTMLModel",
            "_view_count": null,
            "_view_module": "@jupyter-widgets/controls",
            "_view_module_version": "1.5.0",
            "_view_name": "HTMLView",
            "description": "",
            "description_tooltip": null,
            "layout": "IPY_MODEL_88b89811a02741f28bed5c9ce2351e59",
            "placeholder": "​",
            "style": "IPY_MODEL_e6546782db77434ebd38753d27b166a9",
            "value": "Generating outputs: 100%"
          }
        },
        "e60696a1f04940c3abee56bad0e67f9d": {
          "model_module": "@jupyter-widgets/controls",
          "model_module_version": "1.5.0",
          "model_name": "ProgressStyleModel",
          "state": {
            "_model_module": "@jupyter-widgets/controls",
            "_model_module_version": "1.5.0",
            "_model_name": "ProgressStyleModel",
            "_view_count": null,
            "_view_module": "@jupyter-widgets/base",
            "_view_module_version": "1.2.0",
            "_view_name": "StyleView",
            "bar_color": null,
            "description_width": ""
          }
        },
        "e6546782db77434ebd38753d27b166a9": {
          "model_module": "@jupyter-widgets/controls",
          "model_module_version": "1.5.0",
          "model_name": "DescriptionStyleModel",
          "state": {
            "_model_module": "@jupyter-widgets/controls",
            "_model_module_version": "1.5.0",
            "_model_name": "DescriptionStyleModel",
            "_view_count": null,
            "_view_module": "@jupyter-widgets/base",
            "_view_module_version": "1.2.0",
            "_view_name": "StyleView",
            "description_width": ""
          }
        },
        "ec28e93a2ee5405eb1f97f4d5a6f1107": {
          "model_module": "@jupyter-widgets/controls",
          "model_module_version": "1.5.0",
          "model_name": "DescriptionStyleModel",
          "state": {
            "_model_module": "@jupyter-widgets/controls",
            "_model_module_version": "1.5.0",
            "_model_name": "DescriptionStyleModel",
            "_view_count": null,
            "_view_module": "@jupyter-widgets/base",
            "_view_module_version": "1.2.0",
            "_view_name": "StyleView",
            "description_width": ""
          }
        }
      }
    }
  },
  "nbformat": 4,
  "nbformat_minor": 0
}
